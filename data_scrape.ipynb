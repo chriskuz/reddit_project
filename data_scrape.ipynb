{
 "nbformat": 4,
 "nbformat_minor": 2,
 "metadata": {
  "language_info": {
   "name": "python",
   "codemirror_mode": {
    "name": "ipython",
    "version": 3
   },
   "version": "3.7.4-final"
  },
  "orig_nbformat": 2,
  "file_extension": ".py",
  "mimetype": "text/x-python",
  "name": "python",
  "npconvert_exporter": "python",
  "pygments_lexer": "ipython3",
  "version": 3,
  "kernelspec": {
   "name": "python37664bitdsienvcondac0f786d7361b46f9a35a24c21f171f2b",
   "display_name": "Python 3.7.6 64-bit ('DSI_env': conda)"
  }
 },
 "cells": [
  {
   "cell_type": "code",
   "execution_count": 2,
   "metadata": {},
   "outputs": [],
   "source": [
    "import pandas as pd\n",
    "import datetime as dt\n",
    "import time\n",
    "import requests"
   ]
  },
  {
   "cell_type": "code",
   "execution_count": 33,
   "metadata": {},
   "outputs": [],
   "source": [
    "url = \"https://api.pushshift.io/reddit/search/submission?subreddit=boardgames\""
   ]
  },
  {
   "cell_type": "code",
   "execution_count": 34,
   "metadata": {},
   "outputs": [],
   "source": [
    "res = requests.get(url)"
   ]
  },
  {
   "cell_type": "code",
   "execution_count": 35,
   "metadata": {},
   "outputs": [
    {
     "data": {
      "text/plain": "200"
     },
     "execution_count": 35,
     "metadata": {},
     "output_type": "execute_result"
    }
   ],
   "source": [
    "res.status_code"
   ]
  },
  {
   "cell_type": "code",
   "execution_count": 36,
   "metadata": {},
   "outputs": [],
   "source": [
    "assert res.status_code == 200"
   ]
  },
  {
   "cell_type": "code",
   "execution_count": 37,
   "metadata": {},
   "outputs": [
    {
     "data": {
      "text/plain": "stein-board-game)\\n## Need moar Kickstarter goodness?\\nCheck out... \\n\\n- My [Calendar of Announced Kickstarters](https://airtable.com/shrioIkpOb33jjrcw) ([Also available in iCal flavor](https://airtable.com/shrioIkpOb33jjrcw/iCal?timeZone=America%2FLos_Angeles&amp;userLocale=en))\\n- My interactive AirTable view of [all active board game kickstarter campaigns](https://airtable.com/shrL0m86v0xDjRKbe).\\n- BoardGameGeek's variety of [Kickstarter-oriented Geeklists](https://boardgamegeek.com/geeklist/166152/kickstarter-project-metalist)\\n- [Kicktraq's data-driven views](https://www.kicktraq.com/categories/games/tabletop%20games/)\\n\\n## Footnotes\\n- `#hmm` means that something about the project seems a little off. Buyer beware kinda thing.\\n- `#lolwut` is reserved for projects that seem like copycat games or campaigns put together with little thought. Check 'em out for amusement.\\n- `#take` tags are for projects that have been restarted for some reason, with the number indicating what iteration we're currently on.\\n- Did I miss something? Particularly something **new in the last 7 days** or **ending in the next 7 days**? Let me know in the comments and I'll add it in.\\n\\n## Tip Jar\\nIf you enjoy these lists, maybe [toss me a buck](https://www.paypal.me/Zelbinian/1) now and then. [Signing up for a free AirTable account](https://airtable.com/invite/r/wJL1rj8U) via my referral link can help, too. Plus, it's swell!\",\n   'send_replies': True,\n   'spoiler': False,\n   'stickied': False,\n   'subreddit': 'boardgames',\n   'subreddit_id': 't5_2qmjp',\n   'subreddit_subscribers': 2588752,\n   'subreddit_type': 'public',\n   'thumbnail': 'self',\n   'title': 'Kickstarter Roundup: Apr 19, 2020 | 15+ Ending Soon (including: GPS, Sequoia, and Mountain Goats) &amp; 30+ New This Week (including: Ankh: Gods of Egypt)',\n   'total_awards_received': 0,\n   'treatment_tags': [],\n   'url': 'https://www.reddit.com/r/boardgames/comments/g4e37u/kickstarter_roundup_apr_19_2020_15_ending_soon/',\n   'whitelist_status': 'all_ads',\n   'wls': 6},\n  {'all_awardings': [],\n   'allow_live_comments': False,\n   'author': 'worldshapers',\n   'author_flair_css_class': None,\n   'author_flair_richtext': [],\n   'author_flair_text': None,\n   'author_flair_type': 'text',\n   'author_fullname': 't2_ghts5',\n   'author_patreon_flair': False,\n   'author_premium': False,\n   'awarders': [],\n   'can_mod_post': False,\n   'contest_mode': False,\n   'created_utc': 1587325102,\n   'domain': 'youtube.com',\n   'full_link': 'https://www.reddit.com/r/boardgames/comments/g4dwub/boardgaming_ramblings_is_live_streaming_curators/',\n   'gildings': {},\n   'id': 'g4dwub',\n   'is_crosspostable': True,\n   'is_meta': False,\n   'is_original_content': False,\n   'is_reddit_media_domain': False,\n   'is_robot_indexable': True,\n   'is_self': False,\n   'is_video': False,\n   'link_flair_background_color': '',\n   'link_flair_richtext': [],\n   'link_flair_text_color': 'dark',\n   'link_flair_type': 'text',\n   'locked': False,\n   'media': {'oembed': {'author_name': 'Board Gaming Ramblings',\n     'author_url': 'https://www.youtube.com/channel/UChCOTK24hUzWDne7EloLOvg',\n     'height': 344,\n     'html': '&lt;iframe width=\"459\" height=\"344\" src=\"https://www.youtube.com/embed/0URnCIHmOBk?feature=oembed&amp;enablejsapi=1\" frameborder=\"0\" allow=\"accelerometer; autoplay; encrypted-media; gyroscope; picture-in-picture\" allowfullscreen&gt;&lt;/iframe&gt;',\n     'provider_name': 'YouTube',\n     'provider_url': 'https://www.youtube.com/',\n     'thumbnail_height': 360,\n     'thumbnail_url': 'https://i.ytimg.com/vi/0URnCIHmOBk/hqdefault.jpg',\n     'thumbnail_width': 480,\n     'title': 'Preview Game Night: Curators',\n     'type': 'video',\n     'version': '1.0',\n     'width': 459},\n    'type': 'youtube.com'},\n   'media_embed': {'content': '&lt;iframe width=\"459\" height=\"344\" src=\"https://www.youtube.com/embed/0URnCIHmOBk?feature=oembed&amp;enablejsapi=1\" frameborder=\"0\" allow=\"accelerometer; autoplay; encrypted-media; gyroscope; picture-in-picture\" allowfullscreen&gt;&lt;/iframe&gt;',\n    'height': 344,\n    'scrolling': False,\n    'width': 459},\n   'media_only': False,\n   'no_follow': True,\n   'num_comments': 3,\n   'num_crossposts': 0,\n   'over_18': False,\n   'parent_whitelist_status': 'all_ads',\n   'permalink': '/r/boardgames/comments/g4dwub/boardgaming_ramblings_is_live_streaming_curators/',\n   'pinned': False,\n   'post_hint': 'rich:video',\n   'preview': {'enabled': False,\n    'images': [{'id': 'tWhx1DCwT5WxoFkGoxRrvCJFZ4uQ05vvRvFPQlWNIRk',\n      'resolutions': [{'height': 81,\n        'url': 'https://external-preview.redd.it/5JIUm3lRtCKw4UW5XkVuzc8ZFLTyLOix6aH4TE8ximk.jpg?width=108&amp;crop=smart&amp;auto=webp&amp;s=9b87376dff4a174d10105cc3e7284cc973ec1ba6',\n        'width': 108},\n       {'height': 162,\n        'url': 'https://external-preview.redd.it/5JIUm3lRtCKw4UW5XkVuzc8ZFLTyLOix6aH4TE8ximk.jpg?width=216&amp;crop=smart&amp;auto=webp&amp;s=53c0bf29d5ee8552b39ff23681886f31f12767b1',\n        'width': 216},\n       {'height': 240,\n        'url': 'https://external-preview.redd.it/5JIUm3lRtCKw4UW5XkVuzc8ZFLTyLOix6aH4TE8ximk.jpg?width=320&amp;crop=smart&amp;auto=webp&amp;s=12de1a4f805a71d509439e63f91b53674a23a8a6',\n        'width': 320}],\n      'source': {'height': 360,\n       'url': 'https://external-preview.redd.it/5JIUm3lRtCKw4UW5XkVuzc8ZFLTyLOix6aH4TE8ximk.jpg?auto=webp&amp;s=d2cc54227ab33221b59d36dd4ffec5d2cc6bcde0',\n       'width': 480},\n      'variants': {}}]},\n   'pwls': 6,\n   'retrieved_on': 1587325108,\n   'score': 1,\n   'secure_media': {'oembed': {'author_name': 'Board Gaming Ramblings',\n     'author_url': 'https://www.youtube.com/channel/UChCOTK24hUzWDne7EloLOvg',\n     'height': 344,\n     'html': '&lt;iframe width=\"459\" height=\"344\" src=\"https://www.youtube.com/embed/0URnCIHmOBk?feature=oembed&amp;enablejsapi=1\" frameborder=\"0\" allow=\"accelerometer; autoplay; encrypted-media; gyroscope; picture-in-picture\" allowfullscreen&gt;&lt;/iframe&gt;',\n     'provider_name': 'YouTube',\n     'provider_url': 'https://www.youtube.com/',\n     'thumbnail_height': 360,\n     'thumbnail_url': 'https://i.ytimg.com/vi/0URnCIHmOBk/hqdefault.jpg',\n     'thumbnail_width': 480,\n     'title': 'Preview Game Night: Curators',\n     'type': 'video',\n     'version': '1.0',\n     'width': 459},\n    'type': 'youtube.com'},\n   'secure_media_embed': {'content': '&lt;iframe width=\"459\" height=\"344\" src=\"https://www.youtube.com/embed/0URnCIHmOBk?feature=oembed&amp;enablejsapi=1\" frameborder=\"0\" allow=\"accelerometer; autoplay; encrypted-media; gyroscope; picture-in-picture\" allowfullscreen&gt;&lt;/iframe&gt;',\n    'height': 344,\n    'media_domain_url': 'https://www.redditmedia.com/mediaembed/g4dwub',\n    'scrolling': False,\n    'width': 459},\n   'selftext': '',\n   'send_replies': True,\n   'spoiler': False,\n   'stickied': False,\n   'subreddit': 'boardgames',\n   'subreddit_id': 't5_2qmjp',\n   'subreddit_subscribers': 2588714,\n   'subreddit_type': 'public',\n   'thumbnail': 'https://b.thumbs.redditmedia.com/ldzSmcVmI-KKlLgjdX5Kd4HkJqWj5B-1PYwOLSUxCDg.jpg',\n   'thumbnail_height': 105,\n   'thumbnail_width': 140,\n   'title': 'Boardgaming ramblings is live streaming Curators.',\n   'total_awards_received': 0,\n   'treatment_tags': [],\n   'url': 'https://www.youtube.com/watch?v=0URnCIHmOBk&amp;fbclid=IwAR0utK02RoIQa0clHAqlvyil56iwXwjVSZ8SeJNMSAzuZTk8jhxLUedEfPo',\n   'whitelist_status': 'all_ads',\n   'wls': 6},\n  {'all_awardings': [],\n   'allow_live_comments': False,\n   'author': 'JGCalvey',\n   'author_flair_css_class': None,\n   'author_flair_richtext': [],\n   'author_flair_text': None,\n   'author_flair_type': 'text',\n   'author_fullname': 't2_2kw4se3z',\n   'author_patreon_flair': False,\n   'author_premium': False,\n   'awarders': [],\n   'can_mod_post': False,\n   'contest_mode': False,\n   'created_utc': 1587324772,\n   'domain': 'self.boardgames',\n   'full_link': 'https://www.reddit.com/r/boardgames/comments/g4dtc1/war_of_the_ringsecond_edition/',\n   'gildings': {},\n   'id': 'g4dtc1',\n   'is_crosspostable': True,\n   'is_meta': False,\n   'is_original_content': False,\n   'is_reddit_media_domain': False,\n   'is_robot_indexable': True,\n   'is_self': True,\n   'is_video': False,\n   'link_flair_background_color': '#edeff1',\n   'link_flair_richtext': [{'e': 'text', 't': 'Question'}],\n   'link_flair_template_id': 'ce696ba0-b792-11e8-9508-0ed1a4fbdca2',\n   'link_flair_text': 'Question',\n   'link_flair_text_color': 'dark',\n   'link_flair_type': 'richtext',\n   'locked': False,\n   'media_only': False,\n   'no_follow': True,\n   'num_comments': 10,\n   'num_crossposts': 0,\n   'over_18': False,\n   'parent_whitelist_status': 'all_ads',\n   'permalink': '/r/boardgames/comments/g4dtc1/war_of_the_ringsecond_edition/',\n   'pinned': False,\n   'pwls': 6,\n   'retrieved_on': 1587324778,\n   'score': 1,\n   'selftext': 'I don’t know if this is the right subreddit but I’ve been looking for the second edition of War of the Ring and it seems that it’s out of stock everywhere I look. Even eBay doesn’t have any copies.\\nSeeing as aeries is an American company I understand why it might be harder to find in the UK but I was wondering if they had stopped printing the game entirely?\\nIf anyone knows wether it’s still in print or the best places to buy it I would love to know :)',\n   'send_replies': True,\n   'spoiler': False,\n   'stickied': False,\n   'subreddit': 'boardgames',\n   'subreddit_id': 't5_2qmjp',\n   'subreddit_subscribers': 2588694,\n   'subreddit_type': 'public',\n   'thumbnail': 'self',\n   'title': 'War of the Ring-Second edition',\n   'total_awards_received': 0,\n   'treatment_tags': [],\n   'url': 'https://www.reddit.com/r/boardgames/comments/g4dtc1/war_of_the_ringsecond_edition/',\n   'whitelist_status': 'all_ads',\n   'wls': 6},\n  {'all_awardings': [],\n   'allow_live_comments': False,\n   'author': 'graffanino',\n   'author_flair_css_class': None,\n   'author_flair_richtext': [],\n   'author_flair_text': None,\n   'author_flair_type': 'text',\n   'author_fullname': 't2_1uozfs0p',\n   'author_patreon_flair': False,\n   'author_premium': False,\n   'awarders': [],\n   'can_mod_post': False,\n   'contest_mode': False,\n   'created_utc': 1587324369,\n   'domain': 'self.boardgames',\n   'full_link': 'https://www.reddit.com/r/boardgames/comments/g4dp0h/recommendations_iso_a_lotr_card_game_for_the/',\n   'gildings': {},\n   'id': 'g4dp0h',\n   'is_crosspostable': True,\n   'is_meta': False,\n   'is_original_content': False,\n   'is_reddit_media_domain': False,\n   'is_robot_indexable': True,\n   'is_self': True,\n   'is_video': False,\n   'link_flair_background_color': '#edeff1',\n   'link_flair_richtext': [{'e': 'text', 't': 'Question'}],\n   'link_flair_template_id': 'ce696ba0-b792-11e8-9508-0ed1a4fbdca2',\n   'link_flair_text': 'Question',\n   'link_flair_text_color': 'dark',\n   'link_flair_type': 'richtext',\n   'locked': False,\n   'media_only': False,\n   'no_follow': True,\n   'num_comments': 6,\n   'num_crossposts': 0,\n   'over_18': False,\n   'parent_whitelist_status': 'all_ads',\n   'permalink': '/r/boardgames/comments/g4dp0h/recommendations_iso_a_lotr_card_game_for_the/',\n   'pinned': False,\n   'pwls': 6,\n   'retrieved_on': 1587324375,\n   'score': 1,\n   'selftext': 'Any recommendations for a LOTR card game good for playing with kids? My boys love Harry Potter Hogwarts Battle cooperative deck building game, so I’m hoping to find something they’d enjoy but Tolkien related instead. 😁',\n   'send_replies': True,\n   'spoiler': False,\n   'stickied': False,\n   'subreddit': 'boardgames',\n   'subreddit_id': 't5_2qmjp',\n   'subreddit_subscribers': 2588694,\n   'subreddit_type': 'public',\n   'thumbnail': 'self',\n   'title': 'Recommendations? ISO a LOTR card game for the family',\n   'total_awards_received': 0,\n   'treatment_tags': [],\n   'url': 'https://www.reddit.com/r/boardgames/comments/g4dp0h/recommendations_iso_a_lotr_card_game_for_the/',\n   'whitelist_status': 'all_ads',\n   'wls': 6},\n  {'all_awardings': [],\n   'allow_live_comments': False,\n   'author': 'RealTheAsh',\n   'author_flair_css_class': None,\n   'author_flair_richtext': [],\n   'author_flair_text': None,\n   'author_flair_type': 'text',\n   'author_fullname': 't2_ri7duh1',\n   'author_patreon_flair': False,\n   'author_premium': False,\n   'awarders': [],\n   'can_mod_post': False,\n   'contest_mode': False,\n   'created_utc': 1587323902,\n   'domain': 'self.boardgames',\n   'full_link': 'https://www.reddit.com/r/boardgames/comments/g4dk1p/ok_does_anyone_play_uno_with_the_real_rules/',\n   'gildings': {},\n   'id': 'g4dk1p',\n   'is_crosspostable': True,\n   'is_meta': False,\n   'is_original_content': False,\n   'is_reddit_media_domain': False,\n   'is_robot_indexable': True,\n   'is_self': True,\n   'is_video': False,\n   'link_flair_background_color': '',\n   'link_flair_richtext': [],\n   'link_flair_text_color': 'dark',\n   'link_flair_type': 'text',\n   'locked': False,\n   'media_only': False,\n   'no_follow': True,\n   'num_comments': 12,\n   'num_crossposts': 0,\n   'over_18': False,\n   'parent_whitelist_status': 'all_ads',\n   'permalink': '/r/boardgames/comments/g4dk1p/ok_does_anyone_play_uno_with_the_real_rules/',\n   'pinned': False,\n   'pwls': 6,\n   'retrieved_on': 1587323909,\n   'score': 1,\n   'selftext': 'I\\'ve never met *anyone* who plays UNO with adding up points. We\\'ve always played \"whoever discards their cards first, wins\".',\n   'send_replies': True,\n   'spoiler': False,\n   'stickied': False,\n   'subreddit': 'boardgames',\n   'subreddit_id': 't5_2qmjp',\n   'subreddit_subscribers': 2588662,\n   'subreddit_type': 'public',\n   'thumbnail': 'self',\n   'title': 'Ok, does anyone play UNO with the real rules?',\n   'total_awards_received': 0,\n   'treatment_tags': [],\n   'url': 'https://www.reddit.com/r/boardgames/comments/g4dk1p/ok_does_anyone_play_uno_with_the_real_rules/',\n   'whitelist_status': 'all_ads',\n   'wls': 6},\n  {'all_awardings': [],\n   'allow_live_comments': False,\n   'author': 'Grandad573',\n   'author_flair_css_class': None,\n   'author_flair_richtext': [],\n   'author_flair_text': None,\n   'author_flair_type': 'text',\n   'author_fullname': 't2_5badvlpd',\n   'author_patreon_flair': False,\n   'author_premium': False,\n   'awarders': [],\n   'can_mod_post': False,\n   'contest_mode': False,\n   'created_utc': 1587323692,\n   'domain': 'self.boardgames',\n   'full_link': 'https://www.reddit.com/r/boardgames/comments/g4dhsb/marvel_champions_or_marvel_crisis_protocol/',\n   'gildings': {},\n   'id': 'g4dhsb',\n   'is_crosspostable': True,\n   'is_meta': False,\n   'is_original_content': False,\n   'is_reddit_media_domain': False,\n   'is_robot_indexable': True,\n   'is_self': True,\n   'is_video': False,\n   'link_flair_background_color': '#edeff1',\n   'link_flair_richtext': [{'e': 'text', 't': 'Question'}],\n   'link_flair_template_id': 'ce696ba0-b792-11e8-9508-0ed1a4fbdca2',\n   'link_flair_text': 'Question',\n   'link_flair_text_color': 'dark',\n   'link_flair_type': 'richtext',\n   'locked': False,\n   'media_only': False,\n   'no_follow': True,\n   'num_comments': 4,\n   'num_crossposts': 0,\n   'over_18': False,\n   'parent_whitelist_status': 'all_ads',\n   'permalink': '/r/boardgames/comments/g4dhsb/marvel_champions_or_marvel_crisis_protocol/',\n   'pinned': False,\n   'pwls': 6,\n   'retrieved_on': 1587323697,\n   'score': 1,\n   'selftext': 'I’m looking for a Marvel game. I know one is a card game and the other a miniature game so you can’t really compare them, but I’m just wondering which of the two do you prefer and would recommend. Which scratches that marvel itch the most?\\n\\nOther marvel game suggestions are welcome!\\n\\nThank you.',\n   'send_replies': True,\n   'spoiler': False,\n   'stickied': False,\n   'subreddit': 'boardgames',\n   'subreddit_id': 't5_2qmjp',\n   'subreddit_subscribers': 2588648,\n   'subreddit_type': 'public',\n   'thumbnail': 'self',\n   'title': 'Marvel Champions or Marvel Crisis Protocol?',\n   'total_awards_received': 0,\n   'treatment_tags': [],\n   'url': 'https://www.reddit.com/r/boardgames/comments/g4dhsb/marvel_champions_or_marvel_crisis_protocol/',\n   'whitelist_status': 'all_ads',\n   'wls': 6},\n  {'all_awardings': [],\n   'allow_live_comments': False,\n   'author': 'nedotykomka',\n   'author_flair_background_color': '',\n   'author_flair_css_class': 'twilight-imperium',\n   'author_flair_richtext': [{'e': 'text',\n     't': \"They're the Hylar, not the Jol Nar\"}],\n   'author_flair_text': \"They're the Hylar, not the Jol Nar\",\n   'author_flair_text_color': 'dark',\n   'author_flair_type': 'richtext',\n   'author_fullname': 't2_fclth',\n   'author_patreon_flair': False,\n   'author_premium': False,\n   'awarders': [],\n   'can_mod_post': False,\n   'contest_mode': False,\n   'created_utc': 1587321565,\n   'domain': 'self.boardgames',\n   'full_link': 'https://www.reddit.com/r/boardgames/comments/g4cv8v/boardgames_set_in_the_tolkiens_first_or_second_age/',\n   'gildings': {},\n   'id': 'g4cv8v',\n   'is_crosspostable': True,\n   'is_meta': False,\n   'is_original_content': False,\n   'is_reddit_media_domain': False,\n   'is_robot_indexable': True,\n   'is_self': True,\n   'is_video': False,\n   'link_flair_background_color': '',\n   'link_flair_richtext': [],\n   'link_flair_text_color': 'dark',\n   'link_flair_type': 'text',\n   'locked': False,\n   'media_only': False,\n   'no_follow': True,\n   'num_comments': 9,\n   'num_crossposts': 0,\n   'over_18': False,\n   'parent_whitelist_status': 'all_ads',\n   'permalink': '/r/boardgames/comments/g4cv8v/boardgames_set_in_the_tolkiens_first_or_second_age/',\n   'pinned': False,\n   'pwls': 6,\n   'retrieved_on': 1587321571,\n   'score': 1,\n   'selftext': \"Long story short, I want to play games set in the Tolkien's first and second age and am willing to design them if necessary. I'm a fledgling designer myself, but would love to make this a collaborative project as I'm not a Tolkien Scholar and tackling projects like the War of Wrath would be enormous undertakings. Anyone want to join me?\\n\\nLong story long, Tolkien's creations have long been an important part of my life. A family friend introduced me to Tolkien when I was in high school and I feverishly tore through the Lord of the Rings in a matter of weeks. Since then, I enjoyed the Lord of the Rings trilogy, mourned the Hobbit Trilogy, and have spent time reading deeper parts of the world. Through all, the stories from Middle Earth have inspired and delighted me.\\n\\nWhen I discovered board games several years ago I was so happy to find the War of the Ring and snatched up all the expansions as soon as they were in print. It's my only 10 on BGG and is by far my favorite board game of all time.\\n\\nDespite my love for War of the Ring, I've been developing an itch for a while to play games set in the First and Second age, specifically the War of Wrath. Can you imagine playing as Morgoth and summoning Ancalagon and legions of dragons, or marshaling ARMY of balrogs and sending them at the hosts of Valinor? Or playing as the host of Valinor with ACTUAL Valar and their envoys at your disposal, but first having to convince the Valar to have compassion and then join the fray? The stories and gameplay are there! They just need to be brought together.\\n\\n I have several games at the prototype stage right now (one set in the US civil rights movement and one in a near future sci fi world) BUT this is a project I would love to start on and want to see if anyone else would want to join me. Additionally, I would love to know if you have attempted or seen any games set in these times and if you have any ideas for games like this. Thanks in advance!\",\n   'send_replies': True,\n   'spoiler': False,\n   'stickied': False,\n   'subreddit': 'boardgames',\n   'subreddit_id': 't5_2qmjp',\n   'subreddit_subscribers': 2588602,\n   'subreddit_type': 'public',\n   'thumbnail': 'self',\n   'title': \"Boardgames Set in the Tolkien's First or Second Age\",\n   'total_awards_received': 0,\n   'treatment_tags': [],\n   'url': 'https://www.reddit.com/r/boardgames/comments/g4cv8v/boardgames_set_in_the_tolkiens_first_or_second_age/',\n   'whitelist_status': 'all_ads',\n   'wls': 6}]}"
     },
     "execution_count": 37,
     "metadata": {},
     "output_type": "execute_result"
    }
   ],
   "source": [
    "json_data = res.json()\n",
    "json_data"
   ]
  },
  {
   "cell_type": "code",
   "execution_count": 38,
   "metadata": {},
   "outputs": [
    {
     "data": {
      "text/plain": "{'all_awardings': [],\n 'allow_live_comments': False,\n 'author': '-0Guppy0-',\n 'author_flair_css_class': None,\n 'author_flair_richtext': [],\n 'author_flair_text': None,\n 'author_flair_type': 'text',\n 'author_fullname': 't2_my6ac',\n 'author_patreon_flair': False,\n 'author_premium': False,\n 'awarders': [],\n 'can_mod_post': False,\n 'contest_mode': False,\n 'created_utc': 1587341664,\n 'domain': 'dropbox.com',\n 'full_link': 'https://www.reddit.com/r/boardgames/comments/g4ijtg/my_11_year_old_designed_a_board_game_i_helped_him/',\n 'gildings': {},\n 'id': 'g4ijtg',\n 'is_crosspostable': True,\n 'is_meta': False,\n 'is_original_content': False,\n 'is_reddit_media_domain': False,\n 'is_robot_indexable': True,\n 'is_self': False,\n 'is_video': False,\n 'link_flair_background_color': '',\n 'link_flair_richtext': [],\n 'link_flair_text_color': 'dark',\n 'link_flair_type': 'text',\n 'locked': False,\n 'media_only': False,\n 'no_follow': True,\n 'num_comments': 6,\n 'num_crossposts': 0,\n 'over_18': False,\n 'parent_whitelist_status': 'all_ads',\n 'permalink': '/r/boardgames/comments/g4ijtg/my_11_year_old_designed_a_board_game_i_helped_him/',\n 'pinned': False,\n 'post_hint': 'link',\n 'preview': {'enabled': False,\n  'images': [{'id': 'KMbn3CCPvk6_ukzEK1zzIufQuyyC0aay4raAkv3Slng',\n    'resolutions': [{'height': 108,\n      'url': 'https://external-preview.redd.it/cmn-k_-F7L54OygS2lqkHISYKPfRXpKLouzuOXaxXGo.jpg?width=108&amp;crop=smart&amp;auto=webp&amp;s=20970d5f7f7c343396aff132ae5ffcee0ce03cb8',\n      'width': 108}],\n    'source': {'height': 160,\n     'url': 'https://external-preview.redd.it/cmn-k_-F7L54OygS2lqkHISYKPfRXpKLouzuOXaxXGo.jpg?auto=webp&amp;s=8844a2f59ff2ffe318ad0e2b7846e1e37aed5128',\n     'width': 160},\n    'variants': {}}]},\n 'pwls': 6,\n 'retrieved_on': 1587341670,\n 'score': 1,\n 'selftext': '',\n 'send_replies': True,\n 'spoiler': False,\n 'stickied': False,\n 'subreddit': 'boardgames',\n 'subreddit_id': 't5_2qmjp',\n 'subreddit_subscribers': 2589151,\n 'subreddit_type': 'public',\n 'thumbnail': 'https://b.thumbs.redditmedia.com/fn_iQ1VSORB30IOqDFI0FwGesbhjXlU3tIByOU--Uhs.jpg',\n 'thumbnail_height': 140,\n 'thumbnail_width': 140,\n 'title': \"My 11 year old designed a board game (I helped him balance some of the effects/abilities, but all of it is his concept/design) and it's amazing. P&amp;P for the COVID blues. 2 player strategy game. He's got a gift.\",\n 'total_awards_received': 0,\n 'treatment_tags': [],\n 'url': 'https://www.dropbox.com/s/twroactj2ounkqi/CQC%20Rules%20and%20Cards.pdf?dl=0',\n 'whitelist_status': 'all_ads',\n 'wls': 6}"
     },
     "execution_count": 38,
     "metadata": {},
     "output_type": "execute_result"
    }
   ],
   "source": [
    "json_data['data'][0]"
   ]
  },
  {
   "cell_type": "code",
   "execution_count": 39,
   "metadata": {},
   "outputs": [
    {
     "data": {
      "text/plain": "25"
     },
     "execution_count": 39,
     "metadata": {},
     "output_type": "execute_result"
    }
   ],
   "source": [
    "len(json_data['data'])"
   ]
  },
  {
   "cell_type": "code",
   "execution_count": 40,
   "metadata": {},
   "outputs": [
    {
     "data": {
      "text/html": "<div>\n<style scoped>\n    .dataframe tbody tr th:only-of-type {\n        vertical-align: middle;\n    }\n\n    .dataframe tbody tr th {\n        vertical-align: top;\n    }\n\n    .dataframe thead th {\n        text-align: right;\n    }\n</style>\n<table border=\"1\" class=\"dataframe\">\n  <thead>\n    <tr style=\"text-align: right;\">\n      <th></th>\n      <th>all_awardings</th>\n      <th>allow_live_comments</th>\n      <th>author</th>\n      <th>author_flair_css_class</th>\n      <th>author_flair_richtext</th>\n      <th>author_flair_text</th>\n      <th>author_flair_type</th>\n      <th>author_fullname</th>\n      <th>author_patreon_flair</th>\n      <th>author_premium</th>\n      <th>...</th>\n      <th>link_flair_css_class</th>\n      <th>link_flair_template_id</th>\n      <th>link_flair_text</th>\n      <th>author_flair_template_id</th>\n      <th>author_flair_text_color</th>\n      <th>media</th>\n      <th>media_embed</th>\n      <th>secure_media</th>\n      <th>secure_media_embed</th>\n      <th>author_flair_background_color</th>\n    </tr>\n  </thead>\n  <tbody>\n    <tr>\n      <th>0</th>\n      <td>[]</td>\n      <td>False</td>\n      <td>-0Guppy0-</td>\n      <td>None</td>\n      <td>[]</td>\n      <td>None</td>\n      <td>text</td>\n      <td>t2_my6ac</td>\n      <td>False</td>\n      <td>False</td>\n      <td>...</td>\n      <td>NaN</td>\n      <td>NaN</td>\n      <td>NaN</td>\n      <td>NaN</td>\n      <td>NaN</td>\n      <td>NaN</td>\n      <td>NaN</td>\n      <td>NaN</td>\n      <td>NaN</td>\n      <td>NaN</td>\n    </tr>\n    <tr>\n      <th>1</th>\n      <td>[]</td>\n      <td>False</td>\n      <td>corona879</td>\n      <td>None</td>\n      <td>[]</td>\n      <td>None</td>\n      <td>text</td>\n      <td>t2_5yaxmgl1</td>\n      <td>False</td>\n      <td>False</td>\n      <td>...</td>\n      <td>NaN</td>\n      <td>NaN</td>\n      <td>NaN</td>\n      <td>NaN</td>\n      <td>NaN</td>\n      <td>NaN</td>\n      <td>NaN</td>\n      <td>NaN</td>\n      <td>NaN</td>\n      <td>NaN</td>\n    </tr>\n    <tr>\n      <th>2</th>\n      <td>[]</td>\n      <td>False</td>\n      <td>PiyRe2772</td>\n      <td>None</td>\n      <td>[]</td>\n      <td>None</td>\n      <td>text</td>\n      <td>t2_bu5ot</td>\n      <td>False</td>\n      <td>False</td>\n      <td>...</td>\n      <td>NaN</td>\n      <td>NaN</td>\n      <td>NaN</td>\n      <td>NaN</td>\n      <td>NaN</td>\n      <td>NaN</td>\n      <td>NaN</td>\n      <td>NaN</td>\n      <td>NaN</td>\n      <td>NaN</td>\n    </tr>\n    <tr>\n      <th>3</th>\n      <td>[]</td>\n      <td>False</td>\n      <td>Alleghri</td>\n      <td>None</td>\n      <td>[]</td>\n      <td>None</td>\n      <td>text</td>\n      <td>t2_duy4f</td>\n      <td>False</td>\n      <td>False</td>\n      <td>...</td>\n      <td>custom</td>\n      <td>508a8f08-b560-11e9-883d-0e2188f2c5a2</td>\n      <td>Custom Project</td>\n      <td>NaN</td>\n      <td>NaN</td>\n      <td>NaN</td>\n      <td>NaN</td>\n      <td>NaN</td>\n      <td>NaN</td>\n      <td>NaN</td>\n    </tr>\n    <tr>\n      <th>4</th>\n      <td>[]</td>\n      <td>False</td>\n      <td>AbusiveOne</td>\n      <td>None</td>\n      <td>[]</td>\n      <td>None</td>\n      <td>text</td>\n      <td>t2_wwa1l</td>\n      <td>False</td>\n      <td>False</td>\n      <td>...</td>\n      <td>NaN</td>\n      <td>NaN</td>\n      <td>NaN</td>\n      <td>NaN</td>\n      <td>NaN</td>\n      <td>NaN</td>\n      <td>NaN</td>\n      <td>NaN</td>\n      <td>NaN</td>\n      <td>NaN</td>\n    </tr>\n  </tbody>\n</table>\n<p>5 rows × 73 columns</p>\n</div>",
      "text/plain": "  all_awardings  allow_live_comments      author author_flair_css_class  \\\n0            []                False   -0Guppy0-                   None   \n1            []                False   corona879                   None   \n2            []                False   PiyRe2772                   None   \n3            []                False    Alleghri                   None   \n4            []                False  AbusiveOne                   None   \n\n  author_flair_richtext author_flair_text author_flair_type author_fullname  \\\n0                    []              None              text        t2_my6ac   \n1                    []              None              text     t2_5yaxmgl1   \n2                    []              None              text        t2_bu5ot   \n3                    []              None              text        t2_duy4f   \n4                    []              None              text        t2_wwa1l   \n\n   author_patreon_flair  author_premium  ... link_flair_css_class  \\\n0                 False           False  ...                  NaN   \n1                 False           False  ...                  NaN   \n2                 False           False  ...                  NaN   \n3                 False           False  ...               custom   \n4                 False           False  ...                  NaN   \n\n                 link_flair_template_id  link_flair_text  \\\n0                                   NaN              NaN   \n1                                   NaN              NaN   \n2                                   NaN              NaN   \n3  508a8f08-b560-11e9-883d-0e2188f2c5a2   Custom Project   \n4                                   NaN              NaN   \n\n   author_flair_template_id author_flair_text_color media media_embed  \\\n0                       NaN                     NaN   NaN         NaN   \n1                       NaN                     NaN   NaN         NaN   \n2                       NaN                     NaN   NaN         NaN   \n3                       NaN                     NaN   NaN         NaN   \n4                       NaN                     NaN   NaN         NaN   \n\n  secure_media  secure_media_embed  author_flair_background_color  \n0          NaN                 NaN                            NaN  \n1          NaN                 NaN                            NaN  \n2          NaN                 NaN                            NaN  \n3          NaN                 NaN                            NaN  \n4          NaN                 NaN                            NaN  \n\n[5 rows x 73 columns]"
     },
     "execution_count": 40,
     "metadata": {},
     "output_type": "execute_result"
    }
   ],
   "source": [
    "results_df = pd.DataFrame(json_data['data'])\n",
    "results_df.head()"
   ]
  },
  {
   "cell_type": "code",
   "execution_count": 41,
   "metadata": {},
   "outputs": [
    {
     "data": {
      "text/plain": "Index(['all_awardings', 'allow_live_comments', 'author',\n       'author_flair_css_class', 'author_flair_richtext', 'author_flair_text',\n       'author_flair_type', 'author_fullname', 'author_patreon_flair',\n       'author_premium', 'awarders', 'can_mod_post', 'contest_mode',\n       'created_utc', 'domain', 'full_link', 'gildings', 'id',\n       'is_crosspostable', 'is_meta', 'is_original_content',\n       'is_reddit_media_domain', 'is_robot_indexable', 'is_self', 'is_video',\n       'link_flair_background_color', 'link_flair_richtext',\n       'link_flair_text_color', 'link_flair_type', 'locked', 'media_only',\n       'no_follow', 'num_comments', 'num_crossposts', 'over_18',\n       'parent_whitelist_status', 'permalink', 'pinned', 'post_hint',\n       'preview', 'pwls', 'retrieved_on', 'score', 'selftext', 'send_replies',\n       'spoiler', 'stickied', 'subreddit', 'subreddit_id',\n       'subreddit_subscribers', 'subreddit_type', 'thumbnail',\n       'thumbnail_height', 'thumbnail_width', 'title', 'total_awards_received',\n       'treatment_tags', 'url', 'whitelist_status', 'wls', 'crosspost_parent',\n       'crosspost_parent_list', 'removed_by_category', 'link_flair_css_class',\n       'link_flair_template_id', 'link_flair_text', 'author_flair_template_id',\n       'author_flair_text_color', 'media', 'media_embed', 'secure_media',\n       'secure_media_embed', 'author_flair_background_color'],\n      dtype='object')"
     },
     "execution_count": 41,
     "metadata": {},
     "output_type": "execute_result"
    }
   ],
   "source": [
    "results_df.columns"
   ]
  },
  {
   "cell_type": "code",
   "execution_count": 12,
   "metadata": {},
   "outputs": [
    {
     "data": {
      "text/html": "<div>\n<style scoped>\n    .dataframe tbody tr th:only-of-type {\n        vertical-align: middle;\n    }\n\n    .dataframe tbody tr th {\n        vertical-align: top;\n    }\n\n    .dataframe thead th {\n        text-align: right;\n    }\n</style>\n<table border=\"1\" class=\"dataframe\">\n  <thead>\n    <tr style=\"text-align: right;\">\n      <th></th>\n      <th>title</th>\n      <th>selftext</th>\n      <th>subreddit</th>\n      <th>created_utc</th>\n      <th>author</th>\n      <th>num_comments</th>\n      <th>score</th>\n      <th>is_self</th>\n    </tr>\n  </thead>\n  <tbody>\n    <tr>\n      <th>0</th>\n      <td>Imperial Assault 2 player question (with app)</td>\n      <td>I bought Imperial Assault years ago, but never...</td>\n      <td>boardgames</td>\n      <td>1587336048</td>\n      <td>lemonsmith</td>\n      <td>3</td>\n      <td>1</td>\n      <td>True</td>\n    </tr>\n    <tr>\n      <th>1</th>\n      <td>Found this Gem</td>\n      <td></td>\n      <td>boardgames</td>\n      <td>1587335509</td>\n      <td>protos1games</td>\n      <td>2</td>\n      <td>1</td>\n      <td>False</td>\n    </tr>\n    <tr>\n      <th>2</th>\n      <td>What are some good games to play with two year...</td>\n      <td>I’m looking for something that a two year old ...</td>\n      <td>boardgames</td>\n      <td>1587335384</td>\n      <td>carefull_pick</td>\n      <td>4</td>\n      <td>1</td>\n      <td>True</td>\n    </tr>\n    <tr>\n      <th>3</th>\n      <td>Two Player Games</td>\n      <td>Hi, all. Any suggestions for games that can be...</td>\n      <td>boardgames</td>\n      <td>1587335021</td>\n      <td>QuixoteAQ</td>\n      <td>5</td>\n      <td>1</td>\n      <td>True</td>\n    </tr>\n    <tr>\n      <th>4</th>\n      <td>A good Uno app?</td>\n      <td>Is there a good plain basic Uno moble app that...</td>\n      <td>boardgames</td>\n      <td>1587333989</td>\n      <td>bigplopa</td>\n      <td>0</td>\n      <td>1</td>\n      <td>True</td>\n    </tr>\n  </tbody>\n</table>\n</div>",
      "text/plain": "                                               title  \\\n0      Imperial Assault 2 player question (with app)   \n1                                     Found this Gem   \n2  What are some good games to play with two year...   \n3                                   Two Player Games   \n4                                    A good Uno app?   \n\n                                            selftext   subreddit  created_utc  \\\n0  I bought Imperial Assault years ago, but never...  boardgames   1587336048   \n1                                                     boardgames   1587335509   \n2  I’m looking for something that a two year old ...  boardgames   1587335384   \n3  Hi, all. Any suggestions for games that can be...  boardgames   1587335021   \n4  Is there a good plain basic Uno moble app that...  boardgames   1587333989   \n\n          author  num_comments  score  is_self  \n0     lemonsmith             3      1     True  \n1   protos1games             2      1    False  \n2  carefull_pick             4      1     True  \n3      QuixoteAQ             5      1     True  \n4       bigplopa             0      1     True  "
     },
     "execution_count": 12,
     "metadata": {},
     "output_type": "execute_result"
    }
   ],
   "source": [
    "# let's filter only the main columns of data\n",
    "subfields = ['title', 'selftext', 'subreddit', 'created_utc', 'author', 'num_comments', 'score', 'is_self']\n",
    "results_df[subfields].head()"
   ]
  },
  {
   "cell_type": "code",
   "execution_count": 13,
   "metadata": {},
   "outputs": [
    {
     "data": {
      "text/html": "<div>\n<style scoped>\n    .dataframe tbody tr th:only-of-type {\n        vertical-align: middle;\n    }\n\n    .dataframe tbody tr th {\n        vertical-align: top;\n    }\n\n    .dataframe thead th {\n        text-align: right;\n    }\n</style>\n<table border=\"1\" class=\"dataframe\">\n  <thead>\n    <tr style=\"text-align: right;\">\n      <th></th>\n      <th>title</th>\n      <th>selftext</th>\n      <th>subreddit</th>\n      <th>created_utc</th>\n      <th>author</th>\n      <th>num_comments</th>\n      <th>score</th>\n      <th>is_self</th>\n    </tr>\n  </thead>\n  <tbody>\n    <tr>\n      <th>0</th>\n      <td>Imperial Assault 2 player question (with app)</td>\n      <td>I bought Imperial Assault years ago, but never...</td>\n      <td>boardgames</td>\n      <td>1587336048</td>\n      <td>lemonsmith</td>\n      <td>3</td>\n      <td>1</td>\n      <td>True</td>\n    </tr>\n    <tr>\n      <th>1</th>\n      <td>Found this Gem</td>\n      <td></td>\n      <td>boardgames</td>\n      <td>1587335509</td>\n      <td>protos1games</td>\n      <td>2</td>\n      <td>1</td>\n      <td>False</td>\n    </tr>\n    <tr>\n      <th>2</th>\n      <td>What are some good games to play with two year...</td>\n      <td>I’m looking for something that a two year old ...</td>\n      <td>boardgames</td>\n      <td>1587335384</td>\n      <td>carefull_pick</td>\n      <td>4</td>\n      <td>1</td>\n      <td>True</td>\n    </tr>\n    <tr>\n      <th>3</th>\n      <td>Two Player Games</td>\n      <td>Hi, all. Any suggestions for games that can be...</td>\n      <td>boardgames</td>\n      <td>1587335021</td>\n      <td>QuixoteAQ</td>\n      <td>5</td>\n      <td>1</td>\n      <td>True</td>\n    </tr>\n    <tr>\n      <th>4</th>\n      <td>A good Uno app?</td>\n      <td>Is there a good plain basic Uno moble app that...</td>\n      <td>boardgames</td>\n      <td>1587333989</td>\n      <td>bigplopa</td>\n      <td>0</td>\n      <td>1</td>\n      <td>True</td>\n    </tr>\n  </tbody>\n</table>\n</div>",
      "text/plain": "                                               title  \\\n0      Imperial Assault 2 player question (with app)   \n1                                     Found this Gem   \n2  What are some good games to play with two year...   \n3                                   Two Player Games   \n4                                    A good Uno app?   \n\n                                            selftext   subreddit  created_utc  \\\n0  I bought Imperial Assault years ago, but never...  boardgames   1587336048   \n1                                                     boardgames   1587335509   \n2  I’m looking for something that a two year old ...  boardgames   1587335384   \n3  Hi, all. Any suggestions for games that can be...  boardgames   1587335021   \n4  Is there a good plain basic Uno moble app that...  boardgames   1587333989   \n\n          author  num_comments  score  is_self  \n0     lemonsmith             3      1     True  \n1   protos1games             2      1    False  \n2  carefull_pick             4      1     True  \n3      QuixoteAQ             5      1     True  \n4       bigplopa             0      1     True  "
     },
     "execution_count": 13,
     "metadata": {},
     "output_type": "execute_result"
    }
   ],
   "source": [
    "# select subfields\n",
    "results_df = results_df[subfields]\n",
    "results_df.head()"
   ]
  },
  {
   "cell_type": "code",
   "execution_count": 14,
   "metadata": {},
   "outputs": [],
   "source": [
    "# remove duplicates\n",
    "results_df.drop_duplicates(inplace = True)"
   ]
  },
  {
   "cell_type": "code",
   "execution_count": 15,
   "metadata": {},
   "outputs": [],
   "source": [
    "# filter only `is_self` == True\n",
    "results_df = results_df[results_df[\"is_self\"] == True]"
   ]
  },
  {
   "cell_type": "code",
   "execution_count": 17,
   "metadata": {},
   "outputs": [
    {
     "data": {
      "text/plain": "datetime.date(2020, 1, 20)"
     },
     "execution_count": 17,
     "metadata": {},
     "output_type": "execute_result"
    }
   ],
   "source": [
    "# AN ASIDE: using dt.date.fromtimestamp\n",
    "dt.date.fromtimestamp(1579572662) # converts epoch time to datetime"
   ]
  },
  {
   "cell_type": "code",
   "execution_count": 18,
   "metadata": {},
   "outputs": [
    {
     "data": {
      "text/plain": "0    2020-04-19\n2    2020-04-19\n3    2020-04-19\n4    2020-04-19\n5    2020-04-19\nName: timestamp, dtype: object"
     },
     "execution_count": 18,
     "metadata": {},
     "output_type": "execute_result"
    }
   ],
   "source": [
    "# Creating `timestamp` column using `created_utc` column\n",
    "results_df[\"timestamp\"] = results_df[\"created_utc\"].map(dt.date.fromtimestamp)\n",
    "results_df[\"timestamp\"].head()"
   ]
  },
  {
   "cell_type": "code",
   "execution_count": 19,
   "metadata": {},
   "outputs": [
    {
     "data": {
      "text/html": "<div>\n<style scoped>\n    .dataframe tbody tr th:only-of-type {\n        vertical-align: middle;\n    }\n\n    .dataframe tbody tr th {\n        vertical-align: top;\n    }\n\n    .dataframe thead th {\n        text-align: right;\n    }\n</style>\n<table border=\"1\" class=\"dataframe\">\n  <thead>\n    <tr style=\"text-align: right;\">\n      <th></th>\n      <th>title</th>\n      <th>selftext</th>\n      <th>subreddit</th>\n      <th>created_utc</th>\n      <th>author</th>\n      <th>num_comments</th>\n      <th>score</th>\n      <th>is_self</th>\n      <th>timestamp</th>\n    </tr>\n  </thead>\n  <tbody>\n    <tr>\n      <th>0</th>\n      <td>Imperial Assault 2 player question (with app)</td>\n      <td>I bought Imperial Assault years ago, but never...</td>\n      <td>boardgames</td>\n      <td>1587336048</td>\n      <td>lemonsmith</td>\n      <td>3</td>\n      <td>1</td>\n      <td>True</td>\n      <td>2020-04-19</td>\n    </tr>\n    <tr>\n      <th>2</th>\n      <td>What are some good games to play with two year...</td>\n      <td>I’m looking for something that a two year old ...</td>\n      <td>boardgames</td>\n      <td>1587335384</td>\n      <td>carefull_pick</td>\n      <td>4</td>\n      <td>1</td>\n      <td>True</td>\n      <td>2020-04-19</td>\n    </tr>\n    <tr>\n      <th>3</th>\n      <td>Two Player Games</td>\n      <td>Hi, all. Any suggestions for games that can be...</td>\n      <td>boardgames</td>\n      <td>1587335021</td>\n      <td>QuixoteAQ</td>\n      <td>5</td>\n      <td>1</td>\n      <td>True</td>\n      <td>2020-04-19</td>\n    </tr>\n    <tr>\n      <th>4</th>\n      <td>A good Uno app?</td>\n      <td>Is there a good plain basic Uno moble app that...</td>\n      <td>boardgames</td>\n      <td>1587333989</td>\n      <td>bigplopa</td>\n      <td>0</td>\n      <td>1</td>\n      <td>True</td>\n      <td>2020-04-19</td>\n    </tr>\n    <tr>\n      <th>5</th>\n      <td>🔥𝔻𝕚𝕤𝕔𝕠𝕣𝕕 𝕤𝕖𝕣𝕧𝕖𝕣 🔥</td>\n      <td>It will be fun</td>\n      <td>boardgames</td>\n      <td>1587333453</td>\n      <td>pinwinoh</td>\n      <td>0</td>\n      <td>1</td>\n      <td>True</td>\n      <td>2020-04-19</td>\n    </tr>\n  </tbody>\n</table>\n</div>",
      "text/plain": "                                               title  \\\n0      Imperial Assault 2 player question (with app)   \n2  What are some good games to play with two year...   \n3                                   Two Player Games   \n4                                    A good Uno app?   \n5                                  🔥𝔻𝕚𝕤𝕔𝕠𝕣𝕕 𝕤𝕖𝕣𝕧𝕖𝕣 🔥   \n\n                                            selftext   subreddit  created_utc  \\\n0  I bought Imperial Assault years ago, but never...  boardgames   1587336048   \n2  I’m looking for something that a two year old ...  boardgames   1587335384   \n3  Hi, all. Any suggestions for games that can be...  boardgames   1587335021   \n4  Is there a good plain basic Uno moble app that...  boardgames   1587333989   \n5                                     It will be fun  boardgames   1587333453   \n\n          author  num_comments  score  is_self   timestamp  \n0     lemonsmith             3      1     True  2020-04-19  \n2  carefull_pick             4      1     True  2020-04-19  \n3      QuixoteAQ             5      1     True  2020-04-19  \n4       bigplopa             0      1     True  2020-04-19  \n5       pinwinoh             0      1     True  2020-04-19  "
     },
     "execution_count": 19,
     "metadata": {},
     "output_type": "execute_result"
    }
   ],
   "source": [
    "results_df.head()"
   ]
  },
  {
   "cell_type": "code",
   "execution_count": null,
   "metadata": {},
   "outputs": [],
   "source": []
  },
  {
   "cell_type": "code",
   "execution_count": null,
   "metadata": {},
   "outputs": [],
   "source": []
  },
  {
   "cell_type": "code",
   "execution_count": null,
   "metadata": {},
   "outputs": [],
   "source": []
  },
  {
   "cell_type": "code",
   "execution_count": null,
   "metadata": {},
   "outputs": [],
   "source": []
  },
  {
   "cell_type": "code",
   "execution_count": null,
   "metadata": {},
   "outputs": [],
   "source": []
  },
  {
   "cell_type": "code",
   "execution_count": null,
   "metadata": {},
   "outputs": [],
   "source": []
  },
  {
   "cell_type": "code",
   "execution_count": null,
   "metadata": {},
   "outputs": [],
   "source": []
  },
  {
   "cell_type": "code",
   "execution_count": null,
   "metadata": {},
   "outputs": [],
   "source": []
  },
  {
   "cell_type": "code",
   "execution_count": null,
   "metadata": {},
   "outputs": [],
   "source": []
  },
  {
   "cell_type": "code",
   "execution_count": null,
   "metadata": {},
   "outputs": [],
   "source": []
  },
  {
   "cell_type": "code",
   "execution_count": null,
   "metadata": {},
   "outputs": [],
   "source": []
  },
  {
   "cell_type": "code",
   "execution_count": null,
   "metadata": {},
   "outputs": [],
   "source": []
  },
  {
   "cell_type": "code",
   "execution_count": 88,
   "metadata": {},
   "outputs": [],
   "source": [
    "def query_pushshift(subreddit, kind = 'comment', day_window = 30, n = 5):\n",
    "    SUBFIELDS = ['title', 'selftext', 'subreddit', 'created_utc', 'author', 'num_comments', 'score', 'is_self']\n",
    "    \n",
    "    # establish base url and stem\n",
    "    BASE_URL = f\"https://api.pushshift.io/reddit/search/{kind}\" # also known as the \"API endpoint\" \n",
    "    stem = f\"{BASE_URL}?subreddit={subreddit}&size=500\" # always pulling max of 500\n",
    "    \n",
    "    # instantiate empty list for temp storage\n",
    "    posts = []\n",
    "    \n",
    "    # implement for loop with `time.sleep(2)`\n",
    "    for i in range(1, n + 1):\n",
    "        URL = \"{}&after={}d\".format(stem, day_window * i)\n",
    "        print(\"Querying from: \" + URL)\n",
    "        response = requests.get(URL)\n",
    "        assert response.status_code == 200\n",
    "        mine = response.json()['data']\n",
    "        df = pd.DataFrame.from_dict(mine)\n",
    "        posts.append(df)\n",
    "        time.sleep(2)\n",
    "    \n",
    "    # pd.concat storage list\n",
    "    full = pd.concat(posts, sort=False)\n",
    "    \n",
    "    # if submission\n",
    "    if kind == \"submission\":\n",
    "        # select desired columns\n",
    "        full = full[SUBFIELDS]\n",
    "        # drop duplicates\n",
    "        full.drop_duplicates(inplace = True)\n",
    "        # select `is_self` == True\n",
    "        full = full.loc[full['is_self'] == True]\n",
    "\n",
    "    # create `timestamp` column\n",
    "    full['timestamp'] = full[\"created_utc\"].map(dt.date.fromtimestamp)\n",
    "    \n",
    "    print(\"Query Complete!\") \n",
    "    full.reset_index(inplace = True)\n",
    "    print(type(full))   \n",
    "    return full "
   ]
  },
  {
   "cell_type": "code",
   "execution_count": 89,
   "metadata": {},
   "outputs": [
    {
     "name": "stdout",
     "output_type": "stream",
     "text": "Querying from: https://api.pushshift.io/reddit/search/comment?subreddit=natureismetal&size=500&after=30d\nQuerying from: https://api.pushshift.io/reddit/search/comment?subreddit=natureismetal&size=500&after=60d\nQuerying from: https://api.pushshift.io/reddit/search/comment?subreddit=natureismetal&size=500&after=90d\nQuerying from: https://api.pushshift.io/reddit/search/comment?subreddit=natureismetal&size=500&after=120d\nQuerying from: https://api.pushshift.io/reddit/search/comment?subreddit=natureismetal&size=500&after=150d\nQuery Complete!\n<class 'pandas.core.frame.DataFrame'>\n"
    }
   ],
   "source": [
    "nature_is_metal_func = query_pushshift(\"natureismetal\")"
   ]
  },
  {
   "cell_type": "code",
   "execution_count": 94,
   "metadata": {},
   "outputs": [
    {
     "data": {
      "text/plain": "''"
     },
     "execution_count": 94,
     "metadata": {},
     "output_type": "execute_result"
    }
   ],
   "source": [
    "nature_is_metal_func.loc[4,'author_flair_background_color']"
   ]
  },
  {
   "cell_type": "code",
   "execution_count": 83,
   "metadata": {},
   "outputs": [],
   "source": [
    "nature_is_metal = pd.DataFrame(nature_is_metal_func)"
   ]
  },
  {
   "cell_type": "code",
   "execution_count": 85,
   "metadata": {},
   "outputs": [
    {
     "data": {
      "text/plain": "2    []\n2    []\n2    []\n2    []\n2    []\nName: all_awardings, dtype: object"
     },
     "execution_count": 85,
     "metadata": {},
     "output_type": "execute_result"
    }
   ],
   "source": [
    "nature_is_metal.loc[2,'all_awardings']"
   ]
  },
  {
   "cell_type": "code",
   "execution_count": null,
   "metadata": {},
   "outputs": [],
   "source": []
  }
 ]
}