{
 "nbformat": 4,
 "nbformat_minor": 2,
 "metadata": {
  "language_info": {
   "name": "python",
   "codemirror_mode": {
    "name": "ipython",
    "version": 3
   },
   "version": "3.7.4-final"
  },
  "orig_nbformat": 2,
  "file_extension": ".py",
  "mimetype": "text/x-python",
  "name": "python",
  "npconvert_exporter": "python",
  "pygments_lexer": "ipython3",
  "version": 3,
  "kernelspec": {
   "name": "python37664bitdsienvcondac0f786d7361b46f9a35a24c21f171f2b",
   "display_name": "Python 3.7.6 64-bit ('DSI_env': conda)"
  }
 },
 "cells": [
  {
   "cell_type": "markdown",
   "metadata": {},
   "source": [
    "# Data Scraping\n",
    "\n",
    "Thanks to Reddit's semi-relaxed platform and conditions of data scraping, [sourced here in their robots.txt path](https://www.reddit.com/robots.txt), we are able to successfully obtain various data to help us create a model that answers our problem statement. While there is no actual subreddit known as \"r/dangerouslycute\" to actually obtain the jumbled data which my girlfriend is complaining about, we are able to simulate this dataframe conundrum by pulling data from the two original reddits whose content were merged together: \"r/natureismetal\" and \"r/aww.\" Upon pulling both sets of data form the reddits, we can then combine them to create one large dataframe to work with.  \n",
    "\n",
    "The most easy way of doing this without needing to go through an arduous web-scraping process of navigating ugly HTML is by utilizing an API. APIs are tools made by website developers and/or data-enthusiastic communities which help users (such as ourselves) access features to software. Some APIs are sophisticated enough to allow full modding support for certain software applications. In this case, we are going to use a web API known as [pushshift](https://pushshift.io) to obtain information from Reddit's different communities. Pushshift is a [community generated API originally made by moderators from \"r/datasets\"](https://github.com/pushshift/api). Its documentation is found in both related pushshift hyperlink sources found within this very paragraph. It is very sophisticated and very useful in quickly obtaining data in json key-value pairs which can be readily parsed through in Python.   "
   ]
  },
  {
   "cell_type": "code",
   "execution_count": 1,
   "metadata": {},
   "outputs": [],
   "source": [
    "import pandas as pd #imports pandas package\n",
    "import datetime as dt #imports datetime package\n",
    "import time #imports time package\n",
    "import requests #imports requests package"
   ]
  },
  {
   "cell_type": "markdown",
   "metadata": {},
   "source": [
    "## What Access Do We Have to the Data & What Data Do We Have Access to?\n",
    "\n",
    "The API has the capability of pulling in data from two main pathways. One pathway searches through reddit submissions (mainly including posts) while the other pathway searches through comments. For this study, we are only going to go through Reddit submissions to help us gather our data for our model. The Reddit submission pathway through the API contains a lot of other accessible data, including the author name of the post, popularity of the post as whole, and more. As a frequent Reddit user and commentater, I personally can vouch for why it may not be wise to use comments as a method for creating a model. The general understanding to remember is this: *posts on reddit go through bot moderated scruitiny, whereas comments do not*. To elaborate, each successful subreddit will have strict guidelines and rules for submitting content relevant to the \"sub\" and will often have a very dedicated team of moderators who oversee that these rules are followed to the best of everyone's abilities. These rules allow the majority of submitted content to stay relevant to the community's interests and stay relevant to the subreddit's purpose. Comments are typically more plentiful than submissions and are often overlooked by moderators. Comments as an entity are always left open to interpretation and do not undergo as much scrutiny as posts do. This allows commentators to write narratives that may go on complete tangents from the original context of the submission -- solely in the spirit of online discussion. As a reuslt, we may find examples of people talking about their favorite movies or foods on subreddits only discussing how cute cats are.\n",
    "\n",
    "The next step is to consider which features are going to be important to understand for our model. Using the API's documentation, we can decide on these features right here to make any necessary data cleanup later on easier. The list of features which were thought to be relevant for our model are:\n",
    "\n",
    "- `title` (title of the submission)\n",
    "- `selftext` (text of post submission )\n",
    "-  `subreddit` (name of the submission's associated subreddit)\n",
    "- `created_utc` (time stamp of submission)\n",
    "- `author` (name of the submission author)\n",
    "- `num_comments` (number of comments with the submission)\n",
    "- `score` (aggregated score of the submission incorporating the difference of upvotes and downvotes)\n",
    "-  `is_self` (boolean to determine if the submission is solely text post)\n",
    "-  `over_18` (boolean to determine if content is NSFW)\n",
    "- `author_flair_text` (flair text native to the author when posting on a specific subreddit)\n",
    "- `total_awards_received` (number of awards received)"
   ]
  },
  {
   "cell_type": "markdown",
   "metadata": {},
   "source": [
    "## Why These Features?\n",
    "\n",
    "These features were thought out and chosen out of the plethora of features we could pull because of their possible predictive ability to create our model. Below is a quick list of reasoning behind each variable's selection:\n",
    "\n",
    "- `title` (necessary to determine titular key words)\n",
    "- `selftext` (useful to find any key words to be added to our NLP modeling)\n",
    "-  `subreddit` (our prediction values)\n",
    "- `created_utc` (verifies the uniqueness of data)\n",
    "- `author` (may be useful in determining user interest per subreddit)\n",
    "- `num_comments` (useful to find popular submissions within a subreddit)\n",
    "- `score` (useful in determining the validity of a post to a subreddit by its popularity)\n",
    "-  `is_self` (useful in identifying posts with added text)\n",
    "-  `over_18` (boolean to determine if content is NSFW)\n",
    "- `author_flair_text` (may be useful is finding relevant text related to a subreddit per author)\n",
    "- `total_awards_received` (useful in understanding a post's weight on the subreddit)"
   ]
  },
  {
   "cell_type": "markdown",
   "metadata": {},
   "source": [
    "## The Pushshift API Custom Function"
   ]
  },
  {
   "cell_type": "code",
   "execution_count": 2,
   "metadata": {},
   "outputs": [],
   "source": [
    "#Credit to Mahdi Shadkam-Farrokhi for fundtion\n",
    "#The below function obtains and \"cleans\" the data from a subreddit. \n",
    "#The below function utilizes the pushshift API\n",
    "\n",
    "def query_pushshift(subreddit, kind = 'submission', day_window = 30, n = 5):\n",
    "    SUBFIELDS = ['title', 'selftext', 'subreddit', 'created_utc', 'author', 'num_comments', 'score', 'is_self', 'over_18', 'author_flair_text', 'total_awards_received'] #relevant subfields\n",
    "    \n",
    "    # establish base url and stem\n",
    "    BASE_URL = f\"https://api.pushshift.io/reddit/search/{kind}\" # also known as the \"API endpoint\" \n",
    "    stem = f\"{BASE_URL}?subreddit={subreddit}&size=500\" # always pulling max of 500\n",
    "    \n",
    "    # instantiate empty list for temp storage\n",
    "    posts = []\n",
    "    \n",
    "    # implement for loop with `time.sleep(2)`\n",
    "    for i in range(1, n + 1):\n",
    "        URL = \"{}&after={}d\".format(stem, day_window * i) #calls the URL we are searching based on function input\n",
    "        print(\"Querying from: \" + URL) #displays the reddit and path we are querying from\n",
    "        response = requests.get(URL) #grabs the actual data\n",
    "        assert response.status_code == 200 #will give us an error if the request is not met\n",
    "        mine = response.json()['data'] #grabs the json file of the relevant data\n",
    "        df = pd.DataFrame.from_dict(mine) #converts the json json data into a dataframe\n",
    "        posts.append(df) #appends this dataframe into a list known as posts\n",
    "        time.sleep(5) #sets a sleep timer for 5 seconds to \n",
    "    \n",
    "    # pd.concat storage list\n",
    "    full = pd.concat(posts, sort=False) #concats the list of dataframes into a giant dataframe\n",
    "    \n",
    "    # if submission\n",
    "    if kind == \"submission\":\n",
    "        # select desired columns\n",
    "        full = full[SUBFIELDS] #putting in our subfields\n",
    "        # drop duplicates\n",
    "        full.drop_duplicates(inplace = True) #drops duplicates in our giant dataframe \n",
    "\n",
    "    # create `timestamp` column\n",
    "    full['timestamp'] = full[\"created_utc\"].map(dt.date.fromtimestamp) #converts the utc column into proper date time\n",
    "\n",
    "\n",
    "    full.reset_index(inplace = True) #resets the index to eliminate the index repetition\n",
    "    print(\"Query Complete!\") #lets us know when the query is complete    \n",
    "    return full "
   ]
  },
  {
   "cell_type": "code",
   "execution_count": 3,
   "metadata": {},
   "outputs": [
    {
     "name": "stdout",
     "output_type": "stream",
     "text": "Querying from: https://api.pushshift.io/reddit/search/submission?subreddit=natureismetal&size=500&after=30d\nQuerying from: https://api.pushshift.io/reddit/search/submission?subreddit=natureismetal&size=500&after=60d\nQuerying from: https://api.pushshift.io/reddit/search/submission?subreddit=natureismetal&size=500&after=90d\nQuerying from: https://api.pushshift.io/reddit/search/submission?subreddit=natureismetal&size=500&after=120d\nQuerying from: https://api.pushshift.io/reddit/search/submission?subreddit=natureismetal&size=500&after=150d\nQuery Complete!\n"
    }
   ],
   "source": [
    "nature_is_metal = query_pushshift(\"natureismetal\") #pulls from the subreddit r/natureismetal"
   ]
  },
  {
   "cell_type": "code",
   "execution_count": 4,
   "metadata": {},
   "outputs": [
    {
     "name": "stdout",
     "output_type": "stream",
     "text": "Querying from: https://api.pushshift.io/reddit/search/submission?subreddit=aww&size=500&after=30d\nQuerying from: https://api.pushshift.io/reddit/search/submission?subreddit=aww&size=500&after=60d\nQuerying from: https://api.pushshift.io/reddit/search/submission?subreddit=aww&size=500&after=90d\nQuerying from: https://api.pushshift.io/reddit/search/submission?subreddit=aww&size=500&after=120d\nQuerying from: https://api.pushshift.io/reddit/search/submission?subreddit=aww&size=500&after=150d\nQuery Complete!\n"
    }
   ],
   "source": [
    "aww = query_pushshift(\"aww\") #pulls from the subreddit r/aww"
   ]
  },
  {
   "cell_type": "code",
   "execution_count": 5,
   "metadata": {},
   "outputs": [
    {
     "data": {
      "text/html": "<div>\n<style scoped>\n    .dataframe tbody tr th:only-of-type {\n        vertical-align: middle;\n    }\n\n    .dataframe tbody tr th {\n        vertical-align: top;\n    }\n\n    .dataframe thead th {\n        text-align: right;\n    }\n</style>\n<table border=\"1\" class=\"dataframe\">\n  <thead>\n    <tr style=\"text-align: right;\">\n      <th></th>\n      <th>index</th>\n      <th>title</th>\n      <th>selftext</th>\n      <th>subreddit</th>\n      <th>created_utc</th>\n      <th>author</th>\n      <th>num_comments</th>\n      <th>score</th>\n      <th>is_self</th>\n      <th>over_18</th>\n      <th>author_flair_text</th>\n      <th>total_awards_received</th>\n      <th>timestamp</th>\n    </tr>\n  </thead>\n  <tbody>\n    <tr>\n      <th>0</th>\n      <td>0</td>\n      <td>Huge Grizzly Bear</td>\n      <td></td>\n      <td>natureismetal</td>\n      <td>1584925587</td>\n      <td>cobrakiller2000</td>\n      <td>198</td>\n      <td>1</td>\n      <td>False</td>\n      <td>False</td>\n      <td>None</td>\n      <td>0</td>\n      <td>2020-03-22</td>\n    </tr>\n    <tr>\n      <th>1</th>\n      <td>1</td>\n      <td>In my kitchen houseplant..</td>\n      <td></td>\n      <td>natureismetal</td>\n      <td>1584929238</td>\n      <td>Bronco7771</td>\n      <td>2</td>\n      <td>1</td>\n      <td>False</td>\n      <td>False</td>\n      <td>None</td>\n      <td>0</td>\n      <td>2020-03-22</td>\n    </tr>\n    <tr>\n      <th>2</th>\n      <td>2</td>\n      <td>In my kitchen houseplant..</td>\n      <td></td>\n      <td>natureismetal</td>\n      <td>1584929255</td>\n      <td>Bronco7771</td>\n      <td>2</td>\n      <td>1</td>\n      <td>False</td>\n      <td>False</td>\n      <td>None</td>\n      <td>0</td>\n      <td>2020-03-22</td>\n    </tr>\n    <tr>\n      <th>3</th>\n      <td>3</td>\n      <td>Deathlock</td>\n      <td></td>\n      <td>natureismetal</td>\n      <td>1584931304</td>\n      <td>Hamstah_Huey</td>\n      <td>1</td>\n      <td>1</td>\n      <td>False</td>\n      <td>False</td>\n      <td>None</td>\n      <td>0</td>\n      <td>2020-03-22</td>\n    </tr>\n    <tr>\n      <th>4</th>\n      <td>4</td>\n      <td>Seal eats an octopus</td>\n      <td></td>\n      <td>natureismetal</td>\n      <td>1584940215</td>\n      <td>huntergill123</td>\n      <td>231</td>\n      <td>1</td>\n      <td>False</td>\n      <td>False</td>\n      <td>None</td>\n      <td>0</td>\n      <td>2020-03-23</td>\n    </tr>\n  </tbody>\n</table>\n</div>",
      "text/plain": "   index                       title selftext      subreddit  created_utc  \\\n0      0           Huge Grizzly Bear           natureismetal   1584925587   \n1      1  In my kitchen houseplant..           natureismetal   1584929238   \n2      2  In my kitchen houseplant..           natureismetal   1584929255   \n3      3                   Deathlock           natureismetal   1584931304   \n4      4        Seal eats an octopus           natureismetal   1584940215   \n\n            author  num_comments  score  is_self  over_18 author_flair_text  \\\n0  cobrakiller2000           198      1    False    False              None   \n1       Bronco7771             2      1    False    False              None   \n2       Bronco7771             2      1    False    False              None   \n3     Hamstah_Huey             1      1    False    False              None   \n4    huntergill123           231      1    False    False              None   \n\n   total_awards_received   timestamp  \n0                      0  2020-03-22  \n1                      0  2020-03-22  \n2                      0  2020-03-22  \n3                      0  2020-03-22  \n4                      0  2020-03-23  "
     },
     "execution_count": 5,
     "metadata": {},
     "output_type": "execute_result"
    }
   ],
   "source": [
    "nature_is_metal.head()"
   ]
  },
  {
   "cell_type": "code",
   "execution_count": 6,
   "metadata": {},
   "outputs": [
    {
     "data": {
      "text/html": "<div>\n<style scoped>\n    .dataframe tbody tr th:only-of-type {\n        vertical-align: middle;\n    }\n\n    .dataframe tbody tr th {\n        vertical-align: top;\n    }\n\n    .dataframe thead th {\n        text-align: right;\n    }\n</style>\n<table border=\"1\" class=\"dataframe\">\n  <thead>\n    <tr style=\"text-align: right;\">\n      <th></th>\n      <th>index</th>\n      <th>title</th>\n      <th>selftext</th>\n      <th>subreddit</th>\n      <th>created_utc</th>\n      <th>author</th>\n      <th>num_comments</th>\n      <th>score</th>\n      <th>is_self</th>\n      <th>over_18</th>\n      <th>author_flair_text</th>\n      <th>total_awards_received</th>\n      <th>timestamp</th>\n    </tr>\n  </thead>\n  <tbody>\n    <tr>\n      <th>0</th>\n      <td>0</td>\n      <td>I looked out the window and this is what I saw</td>\n      <td></td>\n      <td>aww</td>\n      <td>1584924687</td>\n      <td>dvsnlsn321</td>\n      <td>4</td>\n      <td>1</td>\n      <td>False</td>\n      <td>False</td>\n      <td>None</td>\n      <td>0</td>\n      <td>2020-03-22</td>\n    </tr>\n    <tr>\n      <th>1</th>\n      <td>1</td>\n      <td>Why is he looking at me like that help</td>\n      <td></td>\n      <td>aww</td>\n      <td>1584924690</td>\n      <td>EaliyXX</td>\n      <td>1</td>\n      <td>1</td>\n      <td>False</td>\n      <td>False</td>\n      <td>None</td>\n      <td>0</td>\n      <td>2020-03-22</td>\n    </tr>\n    <tr>\n      <th>2</th>\n      <td>2</td>\n      <td>My foster, Princess Noodle Tophat, wishes you ...</td>\n      <td></td>\n      <td>aww</td>\n      <td>1584924702</td>\n      <td>SheburnsAZ</td>\n      <td>6</td>\n      <td>1</td>\n      <td>False</td>\n      <td>False</td>\n      <td>None</td>\n      <td>0</td>\n      <td>2020-03-22</td>\n    </tr>\n    <tr>\n      <th>3</th>\n      <td>3</td>\n      <td>Cat and dog crazy funny video - funny animals ...</td>\n      <td></td>\n      <td>aww</td>\n      <td>1584924706</td>\n      <td>dilshan9</td>\n      <td>0</td>\n      <td>1</td>\n      <td>False</td>\n      <td>False</td>\n      <td>None</td>\n      <td>0</td>\n      <td>2020-03-22</td>\n    </tr>\n    <tr>\n      <th>4</th>\n      <td>4</td>\n      <td>Afternoon snooze</td>\n      <td></td>\n      <td>aww</td>\n      <td>1584924710</td>\n      <td>codadoda</td>\n      <td>0</td>\n      <td>1</td>\n      <td>False</td>\n      <td>False</td>\n      <td>None</td>\n      <td>0</td>\n      <td>2020-03-22</td>\n    </tr>\n  </tbody>\n</table>\n</div>",
      "text/plain": "   index                                              title selftext  \\\n0      0     I looked out the window and this is what I saw            \n1      1             Why is he looking at me like that help            \n2      2  My foster, Princess Noodle Tophat, wishes you ...            \n3      3  Cat and dog crazy funny video - funny animals ...            \n4      4                                   Afternoon snooze            \n\n  subreddit  created_utc      author  num_comments  score  is_self  over_18  \\\n0       aww   1584924687  dvsnlsn321             4      1    False    False   \n1       aww   1584924690     EaliyXX             1      1    False    False   \n2       aww   1584924702  SheburnsAZ             6      1    False    False   \n3       aww   1584924706    dilshan9             0      1    False    False   \n4       aww   1584924710    codadoda             0      1    False    False   \n\n  author_flair_text  total_awards_received   timestamp  \n0              None                      0  2020-03-22  \n1              None                      0  2020-03-22  \n2              None                      0  2020-03-22  \n3              None                      0  2020-03-22  \n4              None                      0  2020-03-22  "
     },
     "execution_count": 6,
     "metadata": {},
     "output_type": "execute_result"
    }
   ],
   "source": [
    "aww.head()"
   ]
  },
  {
   "cell_type": "code",
   "execution_count": 7,
   "metadata": {},
   "outputs": [
    {
     "data": {
      "text/plain": "(2500, 13)"
     },
     "execution_count": 7,
     "metadata": {},
     "output_type": "execute_result"
    }
   ],
   "source": [
    "nature_is_metal.shape"
   ]
  },
  {
   "cell_type": "code",
   "execution_count": 8,
   "metadata": {},
   "outputs": [
    {
     "data": {
      "text/plain": "(2500, 13)"
     },
     "execution_count": 8,
     "metadata": {},
     "output_type": "execute_result"
    }
   ],
   "source": [
    "aww.shape"
   ]
  },
  {
   "cell_type": "code",
   "execution_count": 9,
   "metadata": {},
   "outputs": [],
   "source": [
    "all_data = pd.concat([nature_is_metal, aww])"
   ]
  },
  {
   "cell_type": "code",
   "execution_count": 10,
   "metadata": {},
   "outputs": [
    {
     "data": {
      "text/plain": "(5000, 13)"
     },
     "execution_count": 10,
     "metadata": {},
     "output_type": "execute_result"
    }
   ],
   "source": [
    "all_data.shape"
   ]
  },
  {
   "cell_type": "code",
   "execution_count": 11,
   "metadata": {},
   "outputs": [],
   "source": [
    "all_data.to_csv('../data/dangerouslycute_data.csv')"
   ]
  },
  {
   "cell_type": "markdown",
   "metadata": {},
   "source": [
    "*All sources better referenced in the  `project_3_main.ipynb` file under the section \"Sources and References\"*"
   ]
  }
 ]
}