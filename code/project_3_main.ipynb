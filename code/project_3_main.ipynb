{
 "nbformat": 4,
 "nbformat_minor": 2,
 "metadata": {
  "language_info": {
   "name": "python",
   "codemirror_mode": {
    "name": "ipython",
    "version": 3
   },
   "version": "3.7.4-final"
  },
  "orig_nbformat": 2,
  "file_extension": ".py",
  "mimetype": "text/x-python",
  "name": "python",
  "npconvert_exporter": "python",
  "pygments_lexer": "ipython3",
  "version": 3,
  "kernelspec": {
   "name": "python3",
   "display_name": "Python 3"
  }
 },
 "cells": [
  {
   "cell_type": "markdown",
   "metadata": {},
   "source": [
    "# Differentiating Between Two Opposing Reddits\n",
    "\n",
    "By: Christopher Kuzemka: [Github Repository](https://git.generalassemb.ly/chriskuz/project_3)\n",
    "\n",
    "## Problem Statement\n",
    "\n",
    "My girlfirned loves to use Reddit. One of her favorite subreddits is \"r/aww\", a community dedicated forum largely consisting of cute animals and cute moments captured on video and on camera. However, there is another reddit that is the complete opposite of cute animals and cute moments captured on video and on camera -- this subreddit is known as \"r/natureismetal\" -- and it was merged together with \"r/aww\" to create a \"super-subreddit\" known as \"r/dangerouslycute.\" The official reason for doing so is unknown, but the top rumor for the merger narrates that both moderators from each subreddit felt that they had enough of a mutual following to justify the merge and consolidate all posts together. This made my girlfriend very upset, as she was never a fan of the content from \"r/natureismetal\" and now she is tainted by its controversial content. We can also imagine that many others must also be displeased by such merger as well. \n",
    "\n",
    "As a good data scientist who wishes to make his significant other happy, I have decided to help my girlfriend make an app that will run Javascript in the background with Reddit and ultimately separate the consolidated subreddit content. My girlfriend will be writing all other code necessary to create the app, while we will explore the jumbled data of \"r/dangerouslycute\" and help create the model that will separate the two subreddits from this super-subreddit.\n",
    "\n",
    "Using data collected previously from the subreddits before the merge, we are going to utilize natural language processing classification models to separate the subreddit content. Our supervised learning models will be judged by their accuracy measure for success. We will do an in depth analysis on a successful model and explore the various quirks behind the influences its predictions.\n",
    "\n",
    "## Executive Summary\n",
    "\n",
    " \n",
    "\n",
    "## Table of Contents\n",
    "[1.00 Data Loading](#1.00-Data-Loading)\n",
    "\n",
    "[2.00 Data Cleaning and Analysis](#2.00-Data-Cleaning-and-Moderate-Analysis)\n",
    "\n",
    "- [2.01 Quick Check](#2.01-Quick-Check)\n",
    "\n",
    "- [2.02 Data Documentation Exploration](#2.02-Data-Documentation-Exploration)\n",
    "\n",
    "- [2.03 Cleaning](#2.03-Cleaning)\n",
    "\n",
    "- [2.04 Feature Engineering](#2.04-Feature-Engineering)\n",
    "\n",
    "- [2.05 Dummifying Columns](#2.05-Dummifying-Columns)\n",
    "\n",
    "- [2.06 Exploratory Data Analysis and Visualization](#2.06-Exploratory-Data-Analysis-and-Visualization)\n",
    "\n",
    "[3.00 Machine Learning Modeling and Visulalization](#3.00-Machine-Learning-Modeling-and-Visulalization)\n",
    "\n",
    "- [3.01 Model Preparation](#3.01-Model-Preparation)\n",
    "\n",
    "- [3.02 Modeling](#3.02-Modeling)\n",
    "\n",
    "- [3.03 Model Selection](#3.03-Model-Selection)\n",
    "\n",
    "- [3.04 Model Evaluation](#3.04-Model-Evaluation)\n",
    "\n",
    "[4.00 Conclusions](#4.00-Conclusions)\n",
    "\n",
    "[5.00 Sources and References](#5.00-Sources-and-References)\n",
    "\n"
   ]
  },
  {
   "cell_type": "markdown",
   "metadata": {},
   "source": [
    "# 1.00 Data Loading"
   ]
  },
  {
   "cell_type": "markdown",
   "metadata": {},
   "source": [
    "### Package Import"
   ]
  },
  {
   "cell_type": "code",
   "execution_count": 17,
   "metadata": {},
   "outputs": [],
   "source": [
    "import pandas as pd #imports pandas library\n",
    "import numpy as np #imports numpy library\n",
    "import matplotlib.pyplot as plt #imports matplotlib.pyplot library\n",
    "import seaborn as sns #imports seaborn library\n",
    "\n",
    "from sklearn.model_selection import train_test_split, cross_val_score #imports data splitting for modeling\n",
    "\n",
    "import copy as cp #imports sophisticated dataframe copying library"
   ]
  },
  {
   "cell_type": "markdown",
   "metadata": {},
   "source": [
    "### Loading The Data"
   ]
  },
  {
   "cell_type": "code",
   "execution_count": 8,
   "metadata": {},
   "outputs": [],
   "source": [
    "dangerouslycute_data = pd.read_csv('../data/dangerouslycute_data.csv') #reads in the initial dataframe "
   ]
  },
  {
   "cell_type": "markdown",
   "metadata": {},
   "source": [
    "# 2.00 Data Cleaning and Analysis "
   ]
  },
  {
   "cell_type": "markdown",
   "metadata": {},
   "source": [
    "## 2.01 Quick Check"
   ]
  },
  {
   "cell_type": "code",
   "execution_count": 9,
   "metadata": {},
   "outputs": [
    {
     "data": {
      "text/html": "<div>\n<style scoped>\n    .dataframe tbody tr th:only-of-type {\n        vertical-align: middle;\n    }\n\n    .dataframe tbody tr th {\n        vertical-align: top;\n    }\n\n    .dataframe thead th {\n        text-align: right;\n    }\n</style>\n<table border=\"1\" class=\"dataframe\">\n  <thead>\n    <tr style=\"text-align: right;\">\n      <th></th>\n      <th>Unnamed: 0</th>\n      <th>index</th>\n      <th>title</th>\n      <th>selftext</th>\n      <th>subreddit</th>\n      <th>created_utc</th>\n      <th>author</th>\n      <th>num_comments</th>\n      <th>score</th>\n      <th>is_self</th>\n      <th>over_18</th>\n      <th>author_flair_text</th>\n      <th>total_awards_received</th>\n      <th>timestamp</th>\n    </tr>\n  </thead>\n  <tbody>\n    <tr>\n      <td>0</td>\n      <td>0</td>\n      <td>0</td>\n      <td>Huge Grizzly Bear</td>\n      <td>NaN</td>\n      <td>natureismetal</td>\n      <td>1584925587</td>\n      <td>cobrakiller2000</td>\n      <td>198</td>\n      <td>1</td>\n      <td>False</td>\n      <td>False</td>\n      <td>NaN</td>\n      <td>0</td>\n      <td>2020-03-22</td>\n    </tr>\n    <tr>\n      <td>1</td>\n      <td>1</td>\n      <td>1</td>\n      <td>In my kitchen houseplant..</td>\n      <td>NaN</td>\n      <td>natureismetal</td>\n      <td>1584929238</td>\n      <td>Bronco7771</td>\n      <td>2</td>\n      <td>1</td>\n      <td>False</td>\n      <td>False</td>\n      <td>NaN</td>\n      <td>0</td>\n      <td>2020-03-22</td>\n    </tr>\n    <tr>\n      <td>2</td>\n      <td>2</td>\n      <td>2</td>\n      <td>In my kitchen houseplant..</td>\n      <td>NaN</td>\n      <td>natureismetal</td>\n      <td>1584929255</td>\n      <td>Bronco7771</td>\n      <td>2</td>\n      <td>1</td>\n      <td>False</td>\n      <td>False</td>\n      <td>NaN</td>\n      <td>0</td>\n      <td>2020-03-22</td>\n    </tr>\n    <tr>\n      <td>3</td>\n      <td>3</td>\n      <td>3</td>\n      <td>Deathlock</td>\n      <td>NaN</td>\n      <td>natureismetal</td>\n      <td>1584931304</td>\n      <td>Hamstah_Huey</td>\n      <td>1</td>\n      <td>1</td>\n      <td>False</td>\n      <td>False</td>\n      <td>NaN</td>\n      <td>0</td>\n      <td>2020-03-22</td>\n    </tr>\n    <tr>\n      <td>4</td>\n      <td>4</td>\n      <td>4</td>\n      <td>Seal eats an octopus</td>\n      <td>NaN</td>\n      <td>natureismetal</td>\n      <td>1584940215</td>\n      <td>huntergill123</td>\n      <td>231</td>\n      <td>1</td>\n      <td>False</td>\n      <td>False</td>\n      <td>NaN</td>\n      <td>0</td>\n      <td>2020-03-23</td>\n    </tr>\n  </tbody>\n</table>\n</div>",
      "text/plain": "   Unnamed: 0  index                       title selftext      subreddit  \\\n0           0      0           Huge Grizzly Bear      NaN  natureismetal   \n1           1      1  In my kitchen houseplant..      NaN  natureismetal   \n2           2      2  In my kitchen houseplant..      NaN  natureismetal   \n3           3      3                   Deathlock      NaN  natureismetal   \n4           4      4        Seal eats an octopus      NaN  natureismetal   \n\n   created_utc           author  num_comments  score  is_self  over_18  \\\n0   1584925587  cobrakiller2000           198      1    False    False   \n1   1584929238       Bronco7771             2      1    False    False   \n2   1584929255       Bronco7771             2      1    False    False   \n3   1584931304     Hamstah_Huey             1      1    False    False   \n4   1584940215    huntergill123           231      1    False    False   \n\n  author_flair_text  total_awards_received   timestamp  \n0               NaN                      0  2020-03-22  \n1               NaN                      0  2020-03-22  \n2               NaN                      0  2020-03-22  \n3               NaN                      0  2020-03-22  \n4               NaN                      0  2020-03-23  "
     },
     "execution_count": 9,
     "metadata": {},
     "output_type": "execute_result"
    }
   ],
   "source": [
    "dangerouslycute_data.head() #displays the head of the data"
   ]
  },
  {
   "cell_type": "code",
   "execution_count": 11,
   "metadata": {},
   "outputs": [
    {
     "data": {
      "text/html": "<div>\n<style scoped>\n    .dataframe tbody tr th:only-of-type {\n        vertical-align: middle;\n    }\n\n    .dataframe tbody tr th {\n        vertical-align: top;\n    }\n\n    .dataframe thead th {\n        text-align: right;\n    }\n</style>\n<table border=\"1\" class=\"dataframe\">\n  <thead>\n    <tr style=\"text-align: right;\">\n      <th></th>\n      <th>Unnamed: 0</th>\n      <th>index</th>\n      <th>title</th>\n      <th>selftext</th>\n      <th>subreddit</th>\n      <th>created_utc</th>\n      <th>author</th>\n      <th>num_comments</th>\n      <th>score</th>\n      <th>is_self</th>\n      <th>over_18</th>\n      <th>author_flair_text</th>\n      <th>total_awards_received</th>\n      <th>timestamp</th>\n    </tr>\n  </thead>\n  <tbody>\n    <tr>\n      <td>4995</td>\n      <td>2495</td>\n      <td>495</td>\n      <td>This picture cracks me up every time.</td>\n      <td>NaN</td>\n      <td>aww</td>\n      <td>1574575629</td>\n      <td>bjax_7</td>\n      <td>68</td>\n      <td>1</td>\n      <td>False</td>\n      <td>False</td>\n      <td>NaN</td>\n      <td>0</td>\n      <td>2019-11-24</td>\n    </tr>\n    <tr>\n      <td>4996</td>\n      <td>2496</td>\n      <td>496</td>\n      <td>Please take me</td>\n      <td>NaN</td>\n      <td>aww</td>\n      <td>1574575720</td>\n      <td>side_effect7</td>\n      <td>1</td>\n      <td>1</td>\n      <td>False</td>\n      <td>False</td>\n      <td>NaN</td>\n      <td>0</td>\n      <td>2019-11-24</td>\n    </tr>\n    <tr>\n      <td>4997</td>\n      <td>2497</td>\n      <td>497</td>\n      <td>Made me tear up</td>\n      <td>NaN</td>\n      <td>aww</td>\n      <td>1574575767</td>\n      <td>ancientflowers</td>\n      <td>0</td>\n      <td>1</td>\n      <td>False</td>\n      <td>False</td>\n      <td>NaN</td>\n      <td>0</td>\n      <td>2019-11-24</td>\n    </tr>\n    <tr>\n      <td>4998</td>\n      <td>2498</td>\n      <td>498</td>\n      <td>Husband: \"We're not getting a cat!\" Husband an...</td>\n      <td>NaN</td>\n      <td>aww</td>\n      <td>1574575820</td>\n      <td>sleepingdragon80</td>\n      <td>10</td>\n      <td>1</td>\n      <td>False</td>\n      <td>False</td>\n      <td>NaN</td>\n      <td>0</td>\n      <td>2019-11-24</td>\n    </tr>\n    <tr>\n      <td>4999</td>\n      <td>2499</td>\n      <td>499</td>\n      <td>Micio got angry because I poked him in his ponch.</td>\n      <td>NaN</td>\n      <td>aww</td>\n      <td>1574575826</td>\n      <td>CartonOfPutters</td>\n      <td>3</td>\n      <td>1</td>\n      <td>False</td>\n      <td>False</td>\n      <td>NaN</td>\n      <td>0</td>\n      <td>2019-11-24</td>\n    </tr>\n  </tbody>\n</table>\n</div>",
      "text/plain": "      Unnamed: 0  index                                              title  \\\n4995        2495    495              This picture cracks me up every time.   \n4996        2496    496                                     Please take me   \n4997        2497    497                                    Made me tear up   \n4998        2498    498  Husband: \"We're not getting a cat!\" Husband an...   \n4999        2499    499  Micio got angry because I poked him in his ponch.   \n\n     selftext subreddit  created_utc            author  num_comments  score  \\\n4995      NaN       aww   1574575629            bjax_7            68      1   \n4996      NaN       aww   1574575720      side_effect7             1      1   \n4997      NaN       aww   1574575767    ancientflowers             0      1   \n4998      NaN       aww   1574575820  sleepingdragon80            10      1   \n4999      NaN       aww   1574575826   CartonOfPutters             3      1   \n\n      is_self  over_18 author_flair_text  total_awards_received   timestamp  \n4995    False    False               NaN                      0  2019-11-24  \n4996    False    False               NaN                      0  2019-11-24  \n4997    False    False               NaN                      0  2019-11-24  \n4998    False    False               NaN                      0  2019-11-24  \n4999    False    False               NaN                      0  2019-11-24  "
     },
     "execution_count": 11,
     "metadata": {},
     "output_type": "execute_result"
    }
   ],
   "source": [
    "dangerouslycute_data.tail()"
   ]
  },
  {
   "cell_type": "code",
   "execution_count": 12,
   "metadata": {},
   "outputs": [
    {
     "data": {
      "text/plain": "(5000, 14)"
     },
     "execution_count": 12,
     "metadata": {},
     "output_type": "execute_result"
    }
   ],
   "source": [
    "dangerouslycute_data.shape"
   ]
  },
  {
   "cell_type": "code",
   "execution_count": 16,
   "metadata": {},
   "outputs": [
    {
     "data": {
      "text/plain": "author_flair_text        0.9982\nselftext                 0.9894\ntimestamp                0.0000\ntotal_awards_received    0.0000\nover_18                  0.0000\nis_self                  0.0000\nscore                    0.0000\nnum_comments             0.0000\nauthor                   0.0000\ncreated_utc              0.0000\nsubreddit                0.0000\ntitle                    0.0000\nindex                    0.0000\nUnnamed: 0               0.0000\ndtype: float64"
     },
     "execution_count": 16,
     "metadata": {},
     "output_type": "execute_result"
    }
   ],
   "source": [
    "dangerouslycute_data.isnull().mean().sort_values(ascending = False)"
   ]
  },
  {
   "cell_type": "code",
   "execution_count": 18,
   "metadata": {},
   "outputs": [
    {
     "data": {
      "text/plain": "author_flair_text        4991\nselftext                 4947\ntimestamp                   0\ntotal_awards_received       0\nover_18                     0\nis_self                     0\nscore                       0\nnum_comments                0\nauthor                      0\ncreated_utc                 0\nsubreddit                   0\ntitle                       0\nindex                       0\nUnnamed: 0                  0\ndtype: int64"
     },
     "execution_count": 18,
     "metadata": {},
     "output_type": "execute_result"
    }
   ],
   "source": [
    "dangerouslycute_data.isnull().sum().sort_values(ascending = False)"
   ]
  },
  {
   "cell_type": "code",
   "execution_count": 19,
   "metadata": {},
   "outputs": [
    {
     "data": {
      "text/plain": "Unnamed: 0                int64\nindex                     int64\ntitle                    object\nselftext                 object\nsubreddit                object\ncreated_utc               int64\nauthor                   object\nnum_comments              int64\nscore                     int64\nis_self                    bool\nover_18                    bool\nauthor_flair_text        object\ntotal_awards_received     int64\ntimestamp                object\ndtype: object"
     },
     "execution_count": 19,
     "metadata": {},
     "output_type": "execute_result"
    }
   ],
   "source": [
    "dangerouslycute_data.dtypes"
   ]
  },
  {
   "cell_type": "code",
   "execution_count": null,
   "metadata": {},
   "outputs": [],
   "source": []
  },
  {
   "cell_type": "code",
   "execution_count": null,
   "metadata": {},
   "outputs": [],
   "source": []
  },
  {
   "cell_type": "markdown",
   "metadata": {},
   "source": [
    "## 2.00 Data Cleaning and Analysis "
   ]
  },
  {
   "cell_type": "code",
   "execution_count": null,
   "metadata": {},
   "outputs": [],
   "source": []
  },
  {
   "cell_type": "markdown",
   "metadata": {},
   "source": [
    "## 3.00 Machine Learning Modeling and Visualization"
   ]
  },
  {
   "cell_type": "code",
   "execution_count": null,
   "metadata": {},
   "outputs": [],
   "source": []
  },
  {
   "cell_type": "markdown",
   "metadata": {},
   "source": [
    "## 4.00 Conclusions"
   ]
  },
  {
   "cell_type": "code",
   "execution_count": null,
   "metadata": {},
   "outputs": [],
   "source": []
  },
  {
   "cell_type": "markdown",
   "metadata": {},
   "source": [
    "## 5.00 Sources and References"
   ]
  },
  {
   "cell_type": "code",
   "execution_count": null,
   "metadata": {},
   "outputs": [],
   "source": []
  },
  {
   "cell_type": "code",
   "execution_count": null,
   "metadata": {},
   "outputs": [],
   "source": []
  },
  {
   "cell_type": "code",
   "execution_count": null,
   "metadata": {},
   "outputs": [],
   "source": []
  },
  {
   "cell_type": "code",
   "execution_count": null,
   "metadata": {},
   "outputs": [],
   "source": []
  },
  {
   "cell_type": "code",
   "execution_count": null,
   "metadata": {},
   "outputs": [],
   "source": []
  }
 ]
}