{
 "nbformat": 4,
 "nbformat_minor": 2,
 "metadata": {
  "language_info": {
   "name": "python",
   "codemirror_mode": {
    "name": "ipython",
    "version": 3
   }
  },
  "orig_nbformat": 2,
  "file_extension": ".py",
  "mimetype": "text/x-python",
  "name": "python",
  "npconvert_exporter": "python",
  "pygments_lexer": "ipython3",
  "version": 3
 },
 "cells": [
  {
   "cell_type": "markdown",
   "metadata": {},
   "source": [
    "# Predicting Sale Price for Ames Iowa Housing Department\n",
    "\n",
    "By: Christopher Kuzemka: [Github]\n",
    "\n",
    "## Problem Statement\n",
    "\n",
    "My girlfirned loves to use Reddit. One of her favorite subreddits is \"r/aww\", a community dedicated forum largely consisting of cute animals and cute moments captured on video and on camera. However, there is another reddit that is the complete opposite of cute animals and cute moments captured on video and on camera -- this subreddit is known as \"r/natureismetal\" -- and it was merged together with \"r/aww\" to create a \"super-subreddit\" known as \"r/dangerouslycute.\" The official reason for doing so is unknown, but the top rumor for the merger narrates that both moderators from each subreddit felt that they had enough of a mutual following to justify the merge and consolidate all posts together. This made my girlfriend very upset, as she was never a fan of the content from \"r/natureismetal\" and now she is tainted by controversial content. \n",
    "\n",
    "As a good data scientist who wishes to make his significant other happy, I have decided to help my girlfriend make an app that will run Javascript in the background with Reddit and ultimately separate the consolidated subreddit content. My girlfriend will be writing all other code necessary to create the app, while we will help create the model that will separate the two subreddits from \"r/dangerouslycute.\"\n",
    "\n",
    "Using data collected previously from the subreddits before the merge, we are going to utilize a natural language processing classification model to separate the subreddit content. Our supervised learning models will be judged by their accurecy measure for finding the most successful model, and we will do an in depth analysis on such model and explore the various quirks behind the influences of model predictions.\n",
    "\n",
    "## Executive Summary\n",
    "\n",
    " \n",
    "\n",
    "## Table of Contents\n",
    "[1.00 Data Loading](#1.00-Data-Loading)\n",
    "\n",
    "[2.00 Data Cleaning and Analysis](#2.00-Data-Cleaning-and-Moderate-Analysis)\n",
    "\n",
    "- [2.01 Quick Check](#2.01-Quick-Check)\n",
    "\n",
    "- [2.02 Data Documentation Exploration](#2.02-Data-Documentation-Exploration)\n",
    "\n",
    "- [2.03 Cleaning](#2.03-Cleaning)\n",
    "\n",
    "- [2.04 Feature Engineering](#2.04-Feature-Engineering)\n",
    "\n",
    "- [2.05 Dummifying Columns](#2.05-Dummifying-Columns)\n",
    "\n",
    "- [2.06 Exploratory Data Analysis and Visualization](#2.06-Exploratory-Data-Analysis-and-Visualization)\n",
    "\n",
    "[3.00 Machine Learning Modeling and Visulalization](#3.00-Machine-Learning-Modeling-and-Visulalization)\n",
    "\n",
    "- [3.01 Model Preparation](#3.01-Model-Preparation)\n",
    "\n",
    "- [3.02 Modeling](#3.02-Modeling)\n",
    "\n",
    "- [3.03 Model Selection](#3.03-Model-Selection)\n",
    "\n",
    "- [3.04 Model Evaluation](#3.04-Model-Evaluation)\n",
    "\n",
    "[4.00 Conclusions](#4.00-Conclusions)\n",
    "\n",
    "[5.00 Sources and References](#5.00-Sources-and-References)\n",
    "\n"
   ]
  },
  {
   "cell_type": "markdown",
   "metadata": {},
   "source": [
    "## 1.00 Data Loading"
   ]
  },
  {
   "cell_type": "code",
   "execution_count": null,
   "metadata": {},
   "outputs": [],
   "source": []
  },
  {
   "cell_type": "markdown",
   "metadata": {},
   "source": [
    "## 2.00 Data Cleaning and Analysis "
   ]
  },
  {
   "cell_type": "code",
   "execution_count": null,
   "metadata": {},
   "outputs": [],
   "source": []
  },
  {
   "cell_type": "markdown",
   "metadata": {},
   "source": [
    "## 3.00 Machine Learning Modeling and Visualization"
   ]
  },
  {
   "cell_type": "code",
   "execution_count": null,
   "metadata": {},
   "outputs": [],
   "source": []
  },
  {
   "cell_type": "markdown",
   "metadata": {},
   "source": [
    "## 4.00 Conclusions"
   ]
  },
  {
   "cell_type": "code",
   "execution_count": null,
   "metadata": {},
   "outputs": [],
   "source": []
  },
  {
   "cell_type": "markdown",
   "metadata": {},
   "source": [
    "## 5.00 Sources and References"
   ]
  },
  {
   "cell_type": "code",
   "execution_count": null,
   "metadata": {},
   "outputs": [],
   "source": []
  },
  {
   "cell_type": "code",
   "execution_count": null,
   "metadata": {},
   "outputs": [],
   "source": []
  },
  {
   "cell_type": "code",
   "execution_count": null,
   "metadata": {},
   "outputs": [],
   "source": []
  },
  {
   "cell_type": "code",
   "execution_count": null,
   "metadata": {},
   "outputs": [],
   "source": []
  },
  {
   "cell_type": "code",
   "execution_count": null,
   "metadata": {},
   "outputs": [],
   "source": []
  }
 ]
}