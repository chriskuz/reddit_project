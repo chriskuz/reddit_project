{
 "nbformat": 4,
 "nbformat_minor": 2,
 "metadata": {
  "language_info": {
   "name": "python",
   "codemirror_mode": {
    "name": "ipython",
    "version": 3
   }
  },
  "orig_nbformat": 2,
  "file_extension": ".py",
  "mimetype": "text/x-python",
  "name": "python",
  "npconvert_exporter": "python",
  "pygments_lexer": "ipython3",
  "version": 3
 },
 "cells": [
  {
   "cell_type": "markdown",
   "metadata": {},
   "source": [
    "# Predicting Sale Price for Ames Iowa Housing Department\n",
    "\n",
    "By: Christopher Kuzemka: [Github]\n",
    "\n",
    "## Problem Statement\n",
    "\n",
    "My girlfirned loves to use Reddit. One of her favorite subreddits is \"r/aww\", a community dedicated forum largely consisting of cute animal and cute moments captured on video or on camera. A majority of the of their content   \n",
    "\n",
    "## Executive Summary\n",
    "\n",
    " \n",
    "\n",
    "## Table of Contents\n",
    "[1.00 Data Loading](#1.00-Data-Loading)\n",
    "\n",
    "[2.00 Data Cleaning and Analysis](#2.00-Data-Cleaning-and-Moderate-Analysis)\n",
    "\n",
    "- [2.01 Quick Check](#2.01-Quick-Check)\n",
    "\n",
    "- [2.02 Data Documentation Exploration](#2.02-Data-Documentation-Exploration)\n",
    "\n",
    "- [2.03 Cleaning](#2.03-Cleaning)\n",
    "\n",
    "- [2.04 Feature Engineering](#2.04-Feature-Engineering)\n",
    "\n",
    "- [2.05 Dummifying Columns](#2.05-Dummifying-Columns)\n",
    "\n",
    "- [2.06 Exploratory Data Analysis and Visualization](#2.06-Exploratory-Data-Analysis-and-Visualization)\n",
    "\n",
    "[3.00 Mimic Data Transformation Onto Test Set](#3.00-Mimic-Data-Transformation-Onto-Test-Set)\n",
    "\n",
    "[4.00 Machine Learning Modeling and Visulalization](#4.00-Machine-Learning-Modeling-and-Visulalization)\n",
    "\n",
    "- [4.01 Model Preparation](#4.01-Model-Preparation)\n",
    "\n",
    "- [4.02 Modeling](#4.02-Modeling)\n",
    "\n",
    "- [4.03 Model Selection](#4.03-Model-Selection)\n",
    "\n",
    "- [4.04 Model Evaluation](#4.04-Model-Evaluation)\n",
    "\n",
    "[5.00 Conclusions](#5.00-Conclusions)\n",
    "\n",
    "[6.00 Sources and References](#6.00-Sources-and-References)\n",
    "\n",
    "# Link to DATA DICTIONARY\n",
    "\n",
    "[DATA DICTIONARY](http://jse.amstat.org/v19n3/decock/DataDocumentation.txt) "
   ]
  },
  {
   "cell_type": "code",
   "execution_count": null,
   "metadata": {},
   "outputs": [],
   "source": []
  },
  {
   "cell_type": "code",
   "execution_count": null,
   "metadata": {},
   "outputs": [],
   "source": []
  },
  {
   "cell_type": "code",
   "execution_count": null,
   "metadata": {},
   "outputs": [],
   "source": []
  },
  {
   "cell_type": "code",
   "execution_count": null,
   "metadata": {},
   "outputs": [],
   "source": []
  },
  {
   "cell_type": "code",
   "execution_count": null,
   "metadata": {},
   "outputs": [],
   "source": []
  },
  {
   "cell_type": "code",
   "execution_count": null,
   "metadata": {},
   "outputs": [],
   "source": []
  },
  {
   "cell_type": "code",
   "execution_count": null,
   "metadata": {},
   "outputs": [],
   "source": []
  }
 ]
}